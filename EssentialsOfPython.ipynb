{
  "cells": [
    {
      "cell_type": "markdown",
      "metadata": {
        "id": "view-in-github",
        "colab_type": "text"
      },
      "source": [
        "<a href=\"https://colab.research.google.com/github/aditya-account/pythonLearnings/blob/main/EssentialsOfPython.ipynb\" target=\"_parent\"><img src=\"https://colab.research.google.com/assets/colab-badge.svg\" alt=\"Open In Colab\"/></a>"
      ]
    },
    {
      "cell_type": "markdown",
      "metadata": {
        "id": "teNWEdOHvyac"
      },
      "source": [
        "#Gives ASCII values to each character from the string\n"
      ]
    },
    {
      "cell_type": "code",
      "execution_count": null,
      "metadata": {
        "id": "oGjUTar4vn3e",
        "colab": {
          "base_uri": "https://localhost:8080/"
        },
        "outputId": "19170bbb-aa1e-4ce1-c2b6-40b297612b53"
      },
      "outputs": [
        {
          "output_type": "stream",
          "name": "stdout",
          "text": [
            "enter a astring : Adi\n",
            "[65, 100, 105]\n"
          ]
        }
      ],
      "source": [
        "text = input(\"enter a astring : \")\n",
        "ascii_val = []\n",
        "for characters in text:\n",
        "    ascii_val.append(ord(characters))\n",
        "print(ascii_val)"
      ]
    },
    {
      "cell_type": "markdown",
      "metadata": {
        "id": "hPvuuVAOIFyZ"
      },
      "source": [
        "#On one fine morning Virat wake up at 9am, he will take breakfast in between 10-11, after that he'll take a nap till 4'o clock , then he'll take snacks in between 5-5:30 ,after that he'll take a sleep till 9am\n",
        "if he's happy everything is fine,and everything is good, otherwise he's unhappy.\n"
      ]
    },
    {
      "cell_type": "code",
      "execution_count": null,
      "metadata": {
        "id": "6HTOYbgGHbp7",
        "colab": {
          "base_uri": "https://localhost:8080/"
        },
        "outputId": "a19b697b-bf51-4c0f-a7f8-47363b30e0da"
      },
      "outputs": [
        {
          "output_type": "stream",
          "name": "stdout",
          "text": [
            "Enter the time in 24 hrs format16\n",
            "IS everything is done in time \n",
            "YES(Y) / NO(N)N\n",
            "I am sad\n"
          ]
        }
      ],
      "source": [
        "time =int(input('Enter the time in 24 hrs format'))\n",
        "if time == 9:\n",
        "  print(\"Awake \")\n",
        "  print('I am HAPPY')\n",
        "elif (time == 10 or time == 11):\n",
        "  print(\"Breakfast\")\n",
        "  print('I am HAPPY')\n",
        "elif (time == 17 or time == 18):\n",
        " print(\"Snacks\")\n",
        " print('I am HAPPY')\n",
        "elif (time >= 19 or time <= 8):\n",
        "  print(\"Asleep\")\n",
        "print(\"IS everything is done in time \")\n",
        "s=input(\"YES(Y) / NO(N)\")\n",
        "if s == 'Y':\n",
        "  print(\"I am happy \")\n",
        "if s == 'N':\n",
        " print(\"I am sad\")"
      ]
    },
    {
      "cell_type": "markdown",
      "metadata": {
        "id": "6cNViPvvJ2Ww"
      },
      "source": [
        "#Program for grading taking marks as input\n"
      ]
    },
    {
      "cell_type": "code",
      "execution_count": null,
      "metadata": {
        "id": "9cHFxdiYJZ09",
        "colab": {
          "base_uri": "https://localhost:8080/"
        },
        "outputId": "5b9c68af-1ea6-4710-acd8-ab24d8470419"
      },
      "outputs": [
        {
          "output_type": "stream",
          "name": "stdout",
          "text": [
            "Enter Marks Obtained in 5 Subjects: \n",
            "20\n",
            "20\n",
            "30\n",
            "40\n",
            "30\n",
            "Your Grade is E1\n"
          ]
        }
      ],
      "source": [
        "print(\"Enter Marks Obtained in 5 Subjects: \")\n",
        "markOne = int(input())\n",
        "markTwo = int(input())\n",
        "markThree = int(input())\n",
        "markFour = int(input())\n",
        "markFive = int(input())\n",
        "\n",
        "tot = markOne+markTwo+markThree+markFour+markFive\n",
        "avg = tot/5\n",
        "\n",
        "if avg>=91 and avg<=100:\n",
        "    print(\"Your Grade is A1\")\n",
        "elif avg>=81 and avg<91:\n",
        "    print(\"Your Grade is A2\")\n",
        "elif avg>=71 and avg<81:\n",
        "    print(\"Your Grade is B1\")\n",
        "elif avg>=61 and avg<71:\n",
        "    print(\"Your Grade is B2\")\n",
        "elif avg>=51 and avg<61:\n",
        "    print(\"Your Grade is C1\")\n",
        "elif avg>=41 and avg<51:\n",
        "    print(\"Your Grade is C2\")\n",
        "elif avg>=33 and avg<41:\n",
        "    print(\"Your Grade is D\")\n",
        "elif avg>=21 and avg<33:\n",
        "    print(\"Your Grade is E1\")\n",
        "elif avg>=0 and avg<21:\n",
        "    print(\"Your Grade is E2\")\n",
        "else:\n",
        "    print(\"Invalid Input!\")"
      ]
    },
    {
      "cell_type": "markdown",
      "metadata": {
        "id": "a7Oo5HLsnGdJ"
      },
      "source": [
        "# A program to check whether the number is positive or negative"
      ]
    },
    {
      "cell_type": "code",
      "execution_count": null,
      "metadata": {
        "id": "sFqzlODJHr1p",
        "colab": {
          "base_uri": "https://localhost:8080/"
        },
        "outputId": "f7bd5b32-348a-4204-ce9b-0280f9f1e64a"
      },
      "outputs": [
        {
          "output_type": "stream",
          "name": "stdout",
          "text": [
            "enter a value : 2\n",
            "the number is positive\n"
          ]
        }
      ],
      "source": [
        "num = int(input(\"enter a value : \"))\n",
        "if num > 0:\n",
        "  print(\"the number is positive\")\n",
        "else:\n",
        "  print(\"the number is negative\")"
      ]
    },
    {
      "cell_type": "markdown",
      "metadata": {
        "id": "7eZPIizCrIxa"
      },
      "source": [
        "# program to check whether the given number is even or not"
      ]
    },
    {
      "cell_type": "code",
      "execution_count": null,
      "metadata": {
        "id": "YMf2TIvuqyBc",
        "colab": {
          "base_uri": "https://localhost:8080/"
        },
        "outputId": "6e6cc258-0dd6-458f-a66c-9f65352a3e67"
      },
      "outputs": [
        {
          "output_type": "stream",
          "name": "stdout",
          "text": [
            "enter a number : 5\n",
            "the number is odd\n"
          ]
        }
      ],
      "source": [
        "num = int(input(\"enter a number : \"))\n",
        "if num%2 == 0:\n",
        "  print(\"the number is even\")\n",
        "else:\n",
        "  print(\"the number is odd\")"
      ]
    },
    {
      "cell_type": "code",
      "execution_count": null,
      "metadata": {
        "id": "ceSvAHNVsGOJ",
        "colab": {
          "base_uri": "https://localhost:8080/"
        },
        "outputId": "e252ab64-30fa-4d54-d99e-c643086778aa"
      },
      "outputs": [
        {
          "output_type": "execute_result",
          "data": {
            "text/plain": [
              "False"
            ]
          },
          "metadata": {},
          "execution_count": 6
        }
      ],
      "source": [
        "10>20"
      ]
    },
    {
      "cell_type": "code",
      "execution_count": null,
      "metadata": {
        "id": "6jhAiTsXr-4y",
        "colab": {
          "base_uri": "https://localhost:8080/"
        },
        "outputId": "7ec265b6-6da4-4cb0-ae5e-9107aad5d5ec"
      },
      "outputs": [
        {
          "output_type": "execute_result",
          "data": {
            "text/plain": [
              "True"
            ]
          },
          "metadata": {},
          "execution_count": 7
        }
      ],
      "source": [
        "not 10>20"
      ]
    },
    {
      "cell_type": "code",
      "execution_count": null,
      "metadata": {
        "id": "oS7MC_-ssECt"
      },
      "outputs": [],
      "source": [
        "a = int(input(\"enter the a value : \"))\n",
        "b = int(input(\"enter the b value : \"))\n",
        "if not a>b:\n",
        "  print(\"b is greater than a\")\n",
        "else:\n",
        "  print(\"a is greater than b\")"
      ]
    },
    {
      "cell_type": "code",
      "execution_count": null,
      "metadata": {
        "id": "eT1fiV5Qsw-T"
      },
      "outputs": [],
      "source": [
        "10 in [10,20,30]"
      ]
    },
    {
      "cell_type": "code",
      "execution_count": null,
      "metadata": {
        "id": "fnPjH91btc__"
      },
      "outputs": [],
      "source": [
        "40 in [10,20,30]"
      ]
    },
    {
      "cell_type": "code",
      "execution_count": null,
      "metadata": {
        "id": "Na9lLOKOts22"
      },
      "outputs": [],
      "source": [
        "i = 0\n",
        "while i<5:\n",
        "  print(i,end=\" \") \n",
        "  i=i+1"
      ]
    },
    {
      "cell_type": "code",
      "execution_count": null,
      "metadata": {
        "id": "9lS23aW8up6v"
      },
      "outputs": [],
      "source": [
        "for i in range(1,10):\n",
        "  print(i,end=\" \")\n"
      ]
    },
    {
      "cell_type": "markdown",
      "metadata": {
        "id": "MpN7d7VuweYS"
      },
      "source": [
        "#Program to print series 200,220,240,260,280,300,...,420"
      ]
    },
    {
      "cell_type": "code",
      "execution_count": null,
      "metadata": {
        "id": "vc9QU1RSwmVx"
      },
      "outputs": [],
      "source": [
        "for i in range(200,440,20):\n",
        "  print(i,end=\" \")\n",
        "  "
      ]
    },
    {
      "cell_type": "markdown",
      "metadata": {
        "id": "1OVAO7nGxVRC"
      },
      "source": [
        "#Virat's favourite number is 666, in the range of 200 to 1000, if he see 666 ,he is happy otherwise unhappy"
      ]
    },
    {
      "cell_type": "code",
      "execution_count": null,
      "metadata": {
        "id": "Fswc16dhxRci"
      },
      "outputs": [],
      "source": [
        "fnum = 666\n",
        "for i in range(200,1000):\n",
        "  if i==fnum:\n",
        "    print(\"happy\")\n",
        " "
      ]
    },
    {
      "cell_type": "markdown",
      "metadata": {
        "id": "hYdiVxS7i36W"
      },
      "source": [
        "# Python program for performing Arithmetic Operations\n"
      ]
    },
    {
      "cell_type": "code",
      "execution_count": null,
      "metadata": {
        "id": "l7xx_LHXi3OI"
      },
      "outputs": [],
      "source": [
        "num1 = int(input('Enter First number: '))\n",
        "num2 = int(input('Enter Second number: '))\n",
        "add = num1 + num2\n",
        "dif = num1 - num2\n",
        "mul = num1 * num2\n",
        "div = num1 / num2\n",
        "floor_div = num1 // num2\n",
        "power = num1 ** num2\n",
        "modulus = num1 % num2\n",
        "print('Sum of ',num1 ,'and' ,num2 ,'is :',add)\n",
        "print('Difference of ',num1 ,'and' ,num2 ,'is :',dif)\n",
        "print('Product of' ,num1 ,'and' ,num2 ,'is :',mul)\n",
        "print('Division of ',num1 ,'and' ,num2 ,'is :',div)\n",
        "print('Floor Division of ',num1 ,'and' ,num2 ,'is :',floor_div)\n",
        "print('Exponent of ',num1 ,'and' ,num2 ,'is :',power)\n",
        "print('Modulus of ',num1 ,'and' ,num2 ,'is :',modulus)"
      ]
    },
    {
      "cell_type": "markdown",
      "metadata": {
        "id": "nsMYjHC51sQ9"
      },
      "source": [
        "#binary operators"
      ]
    },
    {
      "cell_type": "markdown",
      "metadata": {
        "id": "5IliDQo41sPy"
      },
      "source": []
    },
    {
      "cell_type": "code",
      "execution_count": null,
      "metadata": {
        "id": "DtktHo7zmRXr"
      },
      "outputs": [],
      "source": [
        "a = 60             \n",
        "b = 13            \n",
        "c = 0\n",
        "\n",
        "c = a & b;       \n",
        "print(\"binary AND value of c is \", c)\n",
        "\n",
        "c = a | b;         \n",
        "print(\"binary OR value of c is \", c)\n",
        "\n",
        "c = a ^ b;        \n",
        "print(\"binary XOR value of c is \", c)\n",
        "\n",
        "c = ~a;          \n",
        "print(\"binary 1's complement Value of c is \", c)\n",
        "\n",
        "c = a << 2;   \n",
        "print(\"binary left shift value of c is \", c)\n",
        "\n",
        "c = a >> 2;   \n",
        "print(\"binary right shift value of c is \", c)"
      ]
    },
    {
      "cell_type": "code",
      "execution_count": null,
      "metadata": {
        "id": "7FTuAKK8pBN4"
      },
      "outputs": [],
      "source": [
        "var1 = int(input(\"enter the value : \"))\n",
        "var2 = int(input(\"enter the value : \"))\n",
        "if var1==var2:\n",
        "  print(\"the values are identical\")\n",
        "else:\n",
        "  print(\"the values are not identical\")"
      ]
    },
    {
      "cell_type": "code",
      "execution_count": null,
      "metadata": {
        "id": "z_2iBPg2vi1g"
      },
      "outputs": [],
      "source": [
        "name = input(\"enter the name of student: \")\n",
        "age = int(input(\"enter the age: \"))\n",
        "cgpa = input(\"enter the cgpa: \")\n",
        "print(\"the name of student is :\",name)\n",
        "print(\"the name of student is :\",age)\n",
        "print(\"the cgpa of student is :\",cgpa)"
      ]
    },
    {
      "cell_type": "markdown",
      "metadata": {
        "id": "3daqj8Du3zFI"
      },
      "source": [
        "#program to print salary bonus"
      ]
    },
    {
      "cell_type": "code",
      "execution_count": null,
      "metadata": {
        "id": "UrT1o8uSxIGv"
      },
      "outputs": [],
      "source": [
        "salary=int(input(\"enter the salary: \"))\n",
        "gender = input(\"enter the type of gender(MALE/FEMALE) :\").upper()\n",
        "\n",
        "if gender ==\"MALE\":\n",
        "  Bsalary = salary + (salary*0.05)\n",
        "elif gender == \"FEMALE\":\n",
        "  Bsalary = salary + (salary*0.1)\n",
        "else:\n",
        "  print(\"invalid\")\n",
        "print(\"the final salary including bonus is: \",Bsalary)"
      ]
    },
    {
      "cell_type": "markdown",
      "metadata": {
        "id": "Jtd4Tz0L1QMQ"
      },
      "source": [
        "#Multiplication table of n"
      ]
    },
    {
      "cell_type": "code",
      "execution_count": null,
      "metadata": {
        "id": "GVybx6NX1O5L"
      },
      "outputs": [],
      "source": [
        "\n",
        "num = int(input(\"enter the value of n\")) \n",
        "\n",
        "for i in range(1, 11):\n",
        "   print(num, 'x', i, '=', num*i)\n"
      ]
    },
    {
      "cell_type": "markdown",
      "metadata": {
        "id": "pqETtH8m4JcY"
      },
      "source": [
        "#Determine whether the character is a vowel or not"
      ]
    },
    {
      "cell_type": "code",
      "execution_count": null,
      "metadata": {
        "id": "z-1e0scl33dX"
      },
      "outputs": [],
      "source": [
        "char = input(\"enter a character: \")\n",
        "if char=='a'or char=='e' or char=='i' or char=='o' or char=='u' or char=='A'or char=='E' or char=='I' or char=='O' or char=='U':\n",
        "  print(\"a vowel\")\n",
        "else:\n",
        "  print(\"not a vowel\")\n",
        "\n"
      ]
    },
    {
      "cell_type": "markdown",
      "metadata": {
        "id": "U7SBCCUa6aNj"
      },
      "source": [
        "# Sum of numbers from m to n"
      ]
    },
    {
      "cell_type": "code",
      "execution_count": null,
      "metadata": {
        "id": "J9KasQi95701"
      },
      "outputs": [],
      "source": [
        "m=int(input(\"enter the value of m :\"))\n",
        "n=int(input(\"enter the value of n :\"))\n",
        "if m>n:\n",
        "  print(\"error!!!\")\n",
        "else:\n",
        "  for i in range(m,n+1):\n",
        "    print(i,end=\" \")\n",
        "    \n",
        "\n"
      ]
    },
    {
      "cell_type": "markdown",
      "metadata": {
        "id": "E1H7-pO68OU4"
      },
      "source": [
        "# **print odd number sequence 1,3,5,7,9,....,n**"
      ]
    },
    {
      "cell_type": "code",
      "execution_count": null,
      "metadata": {
        "id": "28q_AqIp8d-D"
      },
      "outputs": [],
      "source": [
        "n = int(input(\"enter the value of n: \"))\n",
        "\n",
        "for num in range(1, n + 1):\n",
        "\t\n",
        "\tif num % 2 != 0:\n",
        "\t\tprint(num, end = \" \")\n"
      ]
    },
    {
      "cell_type": "markdown",
      "metadata": {
        "id": "KofyMm9u9--B"
      },
      "source": [
        "# patterns"
      ]
    },
    {
      "cell_type": "code",
      "execution_count": null,
      "metadata": {
        "id": "j0Iz8sF4-TdR"
      },
      "outputs": [],
      "source": [
        "def numpat(n):\n",
        "\n",
        "\tfor i in range(0, n):\n",
        "\t\n",
        "\t\tnum = 1\n",
        "\t\n",
        "\t\tfor j in range(0, i+1):\n",
        "\t\t\n",
        "\t\t\tprint(num, end=\" \")\n",
        "\t\t\n",
        "\t\t\tnum = num + 1\n",
        "\t\n",
        "\t\tprint(\"\\r\")\n",
        "\n",
        "n = 4\n",
        "numpat(n)\n"
      ]
    },
    {
      "cell_type": "markdown",
      "metadata": {
        "id": "7zgsEErKAh4H"
      },
      "source": [
        "#                                                                                  Functions\n"
      ]
    },
    {
      "cell_type": "code",
      "execution_count": null,
      "metadata": {
        "id": "JNxVgeraAiRO"
      },
      "outputs": [],
      "source": [
        "def show():\n",
        "  print(\"im done\")\n",
        "\n",
        "show()"
      ]
    },
    {
      "cell_type": "markdown",
      "metadata": {
        "id": "mr6-Ie1gyyIw"
      },
      "source": []
    },
    {
      "cell_type": "code",
      "execution_count": null,
      "metadata": {
        "id": "lTJMBzB9zRQ_"
      },
      "outputs": [],
      "source": [
        "def par(a,b):\n",
        "  c=a+b\n",
        "  print(c)\n",
        "par(2,3)"
      ]
    },
    {
      "cell_type": "code",
      "execution_count": null,
      "metadata": {
        "id": "AThsHYXm0jgO"
      },
      "outputs": [],
      "source": [
        "def show():\n",
        "  a=100\n",
        "  print(a)\n",
        "a=500\n",
        "show()\n",
        "print(a)"
      ]
    },
    {
      "cell_type": "code",
      "execution_count": null,
      "metadata": {
        "id": "lkrNZXgO2mEl"
      },
      "outputs": [],
      "source": [
        "def smile():\n",
        "   a= int(input(\"enter a value: \"))\n",
        "   b= int(input(\"enter b value: \"))\n",
        "   c= int(input(\"enter c value: \"))\n",
        "\n",
        "\n",
        "   avg = (a+b+c)/3\n",
        "   print(avg)\n",
        "smile()"
      ]
    },
    {
      "cell_type": "code",
      "execution_count": null,
      "metadata": {
        "id": "q-DQN1hC4hh8"
      },
      "outputs": [],
      "source": [
        "def smile(x,y,z):\n",
        "  avg = (x+y+z)/3\n",
        "  print(\"Average of three numbers :\",avg)\n",
        "a= int(input(\"enter a value: \"))\n",
        "b= int(input(\"enter b value: \"))\n",
        "c= int(input(\"enter c value: \"))\n",
        "\n",
        "smile(a,b,c)\n"
      ]
    },
    {
      "cell_type": "markdown",
      "metadata": {
        "id": "vRL29Hkw73sp"
      },
      "source": [
        "# program to calculate simple interest with return type and with arguments"
      ]
    },
    {
      "cell_type": "code",
      "execution_count": null,
      "metadata": {
        "id": "n_D9Arwh6mfy"
      },
      "outputs": [],
      "source": [
        "def sinterest(p,t,r):\n",
        "  si =(p*t*r)/100\n",
        "  return si\n",
        " \n",
        "p=int(input(\"enter the principle value : \"))\n",
        "t=int(input(\"enter the  time in months : \"))\n",
        "r=int(input(\"enter the rate of interest : \"))\n",
        "sinterest(p,t,r)\n",
        "\n",
        "\n"
      ]
    },
    {
      "cell_type": "code",
      "execution_count": null,
      "metadata": {
        "id": "Z16IyYRu-z1P"
      },
      "outputs": [],
      "source": [
        "def show(c_name, area):\n",
        "  print(c_name)\n",
        "  print(area)\n",
        "\n",
        "show(area = 'Aziznagar',c_name = 'VJIT')"
      ]
    },
    {
      "cell_type": "markdown",
      "metadata": {
        "id": "UrLcMYVXDkO6"
      },
      "source": [
        "#Simple Interest calculation using functions"
      ]
    },
    {
      "cell_type": "code",
      "execution_count": null,
      "metadata": {
        "id": "FNrlhpPC_mYN"
      },
      "outputs": [],
      "source": [
        "def simple(p,t,r):\n",
        "  return (p*t*r)/100\n",
        "simple(p=100,t=10,r=2)"
      ]
    },
    {
      "cell_type": "markdown",
      "metadata": {
        "id": "bq1OydXJk7AO"
      },
      "source": [
        "# program to show sum of n digits using functions (for both positive and negative values of n)\n"
      ]
    },
    {
      "cell_type": "code",
      "execution_count": null,
      "metadata": {
        "id": "6V0PKD7Mk54-"
      },
      "outputs": [],
      "source": [
        "def sumOfNumbers(n):\n",
        "  sum = 0\n",
        "  if n>0:\n",
        "     for i in range(1,n+1):\n",
        "       sum=sum+i\n",
        "     return sum\n",
        "  elif n<0:\n",
        "    for i in range(0,n-1,-1):\n",
        "      sum = sum+i\n",
        "    return sum\n",
        "\n",
        " \n",
        "n=int(input(\"enter the value of n: \"))\n",
        "sumOfNumbers(n)"
      ]
    },
    {
      "cell_type": "markdown",
      "metadata": {
        "id": "L4dWt7TDmmt8"
      },
      "source": [
        "#Multiple parameters"
      ]
    },
    {
      "cell_type": "code",
      "execution_count": null,
      "metadata": {
        "id": "XWNYXrK-nt3D"
      },
      "outputs": [],
      "source": [
        "def food(**kwarg):\n",
        "  print(kwarg)\n",
        "food(a=\"apple\")\n",
        "food(veg = ['xxx','yyy','zzz'],fruit = [\"banana\",\"guava\"])"
      ]
    },
    {
      "cell_type": "markdown",
      "metadata": {
        "id": "pURU6DhcsxrW"
      },
      "source": [
        "# Passing n number of parameters in python"
      ]
    },
    {
      "cell_type": "code",
      "execution_count": null,
      "metadata": {
        "id": "4o-_-q48sw2Q"
      },
      "outputs": [],
      "source": [
        "def printNames(*names):\n",
        "  print(\"type of passed arument is :\",type(names))\n",
        "  print(\"printing the passes arguments: \")\n",
        "  for name in names:\n",
        "    print(name,end=\" \")\n",
        "printNames(\"Jack\",\"John\",\"Paul\",6,7,34,545)"
      ]
    },
    {
      "cell_type": "markdown",
      "metadata": {
        "id": "bANgKU9XvDpF"
      },
      "source": [
        "# Sum of arguments"
      ]
    },
    {
      "cell_type": "code",
      "execution_count": null,
      "metadata": {
        "id": "jJS49urVvEJu"
      },
      "outputs": [],
      "source": [
        "def printNames(*names):\n",
        "  print(\"type of passed arument is :\",type(names))\n",
        "  print(\"printing the passes arguments: \")\n",
        "  sum=0\n",
        "  for name in names:\n",
        "    print(name,end=\" \")\n",
        "    sum = sum+name\n",
        "    print()\n",
        "    print(\"sum = \",sum)\n",
        "printNames(6,7,34,545)"
      ]
    },
    {
      "cell_type": "markdown",
      "metadata": {
        "id": "xXhlNvJfxLZE"
      },
      "source": [
        "# Recursive functions(factorial of a given number)"
      ]
    },
    {
      "cell_type": "code",
      "execution_count": null,
      "metadata": {
        "id": "5R4_U_S6xLIM"
      },
      "outputs": [],
      "source": [
        "def fun(n):\n",
        "  if n==0:\n",
        "    return 1\n",
        "  else:\n",
        "    return n*fun(n-1)\n",
        "fun(5)"
      ]
    },
    {
      "cell_type": "markdown",
      "metadata": {
        "id": "n9JTEkB_yWIS"
      },
      "source": []
    },
    {
      "cell_type": "markdown",
      "metadata": {
        "id": "DxxrpnXS0_qI"
      },
      "source": []
    },
    {
      "cell_type": "code",
      "execution_count": null,
      "metadata": {
        "id": "iA6zp5cu0__h"
      },
      "outputs": [],
      "source": [
        "c=0\n",
        "def add():\n",
        "  global c\n",
        "  c = c+2\n",
        "  return c\n",
        "add()\n",
        "print(c)"
      ]
    },
    {
      "cell_type": "markdown",
      "metadata": {
        "id": "cFpQEAcR2x42"
      },
      "source": [
        "# program to find average of 4 numbers by reading two values in function1 and other two values in function2 and find average in function3"
      ]
    },
    {
      "cell_type": "code",
      "execution_count": null,
      "metadata": {
        "id": "nlk4IiBr2xlW"
      },
      "outputs": [],
      "source": [
        "\n",
        "def func1():\n",
        "  global a\n",
        "  a=10\n",
        "  global b\n",
        "  b=20\n",
        "def func2():\n",
        "  global c\n",
        "  c=30 \n",
        "  global d\n",
        "  d=40 \n",
        "def func3():\n",
        "  func1()\n",
        "  func2()\n",
        "  average = (a+b+c+d)/4\n",
        "  return average\n",
        "func3()\n",
        "\n",
        "\n",
        " "
      ]
    },
    {
      "cell_type": "markdown",
      "metadata": {
        "id": "g4EZe-Kp9A7C"
      },
      "source": [
        "# class syntax \n",
        "class class_name:\n",
        "\n",
        "    statement"
      ]
    },
    {
      "cell_type": "code",
      "execution_count": null,
      "metadata": {
        "id": "Oq-pOCAY9AVS"
      },
      "outputs": [],
      "source": [
        "class test:\n",
        "  a=10\n",
        "  b=20\n",
        "  def show(self):\n",
        "    print(self.a)\n",
        "    print(self.b)\n",
        "    \n",
        "x=test()\n",
        "print(x.a)\n",
        "print(x.b)\n",
        "x.show()"
      ]
    },
    {
      "cell_type": "markdown",
      "metadata": {
        "id": "WhmU1cXGJp1i"
      },
      "source": []
    },
    {
      "cell_type": "markdown",
      "metadata": {
        "id": "fkuA8-DKJkSU"
      },
      "source": [
        "# write a program to print student details like: student_name and rollno in one function and in another functiopn display the average of 4 marks"
      ]
    },
    {
      "cell_type": "code",
      "execution_count": null,
      "metadata": {
        "id": "JukfrpL9Qy0C"
      },
      "outputs": [],
      "source": [
        "class arith:\n",
        "  def data(self,a,b):\n",
        "    self.a =a\n",
        "    self.b = b\n",
        "  def add(self):\n",
        "    print(\"Sum of two numbers is: \",self.a+self.b)\n",
        "  def sub(self):\n",
        "    print(\"Subtraction of two numbers is\", self.a-self.b)\n",
        "obj = arith()\n",
        "x = int(input(\"enter the value of a:\"))\n",
        "y = int(input(\"enter the value of b: \"))\n",
        "obj.data(x,y)\n",
        "obj.add()\n",
        "obj.sub()"
      ]
    },
    {
      "cell_type": "markdown",
      "metadata": {
        "id": "rV1Xi1yvTGZf"
      },
      "source": [
        "## write a program to calculate area and peimeter of a square"
      ]
    },
    {
      "cell_type": "code",
      "execution_count": null,
      "metadata": {
        "id": "-yX0szNiR5Um"
      },
      "outputs": [],
      "source": [
        "class square:\n",
        "  def data(self,a):\n",
        "    self.a = a\n",
        "  def area(self):\n",
        "    print(\"area of square is : \",a*a)\n",
        "  def perimeter(self):\n",
        "    print(\"perimeter of a square is: \",4*a)\n",
        "obj = square()\n",
        "a = int(input(\"enter the value of a : \"))\n",
        "obj.data(a)\n",
        "obj.area()\n",
        "obj.perimeter()"
      ]
    },
    {
      "cell_type": "markdown",
      "metadata": {
        "id": "HmN1DqvjWlSM"
      },
      "source": [
        "# CONSTRUCTORS:\n",
        "# constructor is used to initialize class variables\n",
        "# init() function is used to create a constructor\n",
        "#syntax:\n",
        "# def __init__(self [args]):\n",
        "#       statements"
      ]
    },
    {
      "cell_type": "code",
      "execution_count": null,
      "metadata": {
        "id": "Gp8IZbbLXohi"
      },
      "outputs": [],
      "source": [
        "class arith:\n",
        "  def __init__(self):\n",
        "    self.a = 10\n",
        "    self.b = 20\n",
        "  def add(self):\n",
        "    print(\"sum of two numbers is :\",self.a+self.b)\n",
        "\n",
        "obj = arith()\n",
        "obj.add()"
      ]
    },
    {
      "cell_type": "code",
      "execution_count": null,
      "metadata": {
        "id": "ORqa2t4nYfTx"
      },
      "outputs": [],
      "source": [
        "class rectangle:\n",
        "  def __init__(self):\n",
        "    self.l = 10\n",
        "    self.b = 20\n",
        "  def area(self):\n",
        "    print(\"sum of two numbers is :\",self.l*self.b)\n",
        "  def area(self):\n",
        "    print(\"sum of two numbers is :\",2(self.l+self.b))\n",
        "\n",
        "\n",
        "obj = arith()\n",
        "obj.area()\n",
        "obj.perimeter()"
      ]
    },
    {
      "cell_type": "markdown",
      "metadata": {
        "id": "Eb3J6la5Zi_s"
      },
      "source": [
        "# Parameterized constructor"
      ]
    },
    {
      "cell_type": "code",
      "execution_count": null,
      "metadata": {
        "id": "80cyRmCHZio8"
      },
      "outputs": [],
      "source": [
        "class arith:\n",
        "  def __init__(self,a,b):\n",
        "    self.a = a\n",
        "    self.b = b\n",
        "  def add(self):\n",
        "    print(\"sum of two numbers is : \",self.a+self.b)\n",
        "obj = arith(2,3)\n",
        "obj.add()"
      ]
    },
    {
      "cell_type": "markdown",
      "metadata": {
        "id": "aFjS5S5saYJz"
      },
      "source": [
        "# write a program for calculating students average of 4 s"
      ]
    },
    {
      "cell_type": "markdown",
      "metadata": {
        "id": "GE-ynPFRasE-"
      },
      "source": [
        "# write a program for : person X having 100 gold coins ,50 silver coins,20 diamonds, on one day sister requested 10 diamonds and 10 gold coins then print remaining coins the person X have (use default and parameterized constructors) "
      ]
    },
    {
      "cell_type": "code",
      "execution_count": null,
      "metadata": {
        "id": "QQpRc3wVafyT"
      },
      "outputs": [],
      "source": [
        "import re\n",
        "res = re.findall('good','good is good')\n",
        "res1 = re.findall('good','bad is good')\n",
        "\n",
        "print(res)\n",
        "print(res1)"
      ]
    },
    {
      "cell_type": "code",
      "execution_count": null,
      "metadata": {
        "id": "RKdIRXtnTFZ5"
      },
      "outputs": [],
      "source": [
        "import re\n",
        "res = re.split('[a-c]','0a3B6',re.I)\n",
        "print(res)"
      ]
    },
    {
      "cell_type": "code",
      "execution_count": null,
      "metadata": {
        "id": "WH1Ny6aKUoMd"
      },
      "outputs": [],
      "source": [
        " res = list('hello')\n",
        "print(res)"
      ]
    },
    {
      "cell_type": "code",
      "execution_count": null,
      "metadata": {
        "id": "iFVdBNh7Woi2"
      },
      "outputs": [],
      "source": [
        "empno = int(input(\"enter the number of employes  :\"));\n",
        "for i in range(0,empno):\n",
        "  name = input(\"enter the  employ name for:\")\n",
        "  salary = int(input(\"enter the salary of  member\"))\n",
        "for i in range(0,empno):\n",
        "  print(\"name of \",name)\n",
        "  print(\"salary of \",name,\"is\",salary)\n"
      ]
    },
    {
      "cell_type": "code",
      "execution_count": null,
      "metadata": {
        "id": "-fz0XAl5ZM41"
      },
      "outputs": [],
      "source": [
        "NumList = []\n",
        "Number = int(input(\"Please enter element length in list \"))\n",
        "for i in range(1, Number + 1):\n",
        "    value = int(input(\"Please enter the Value of %d Element : \" %i))\n",
        "    NumList.append(value)\n",
        " \n",
        "print(\"The Largest Element in this List is : \", max(NumList))\n"
      ]
    },
    {
      "cell_type": "markdown",
      "metadata": {
        "id": "ku_lbgr3v_tQ"
      },
      "source": [
        "\n",
        "\n",
        "```\n",
        "# Default access specifier\n",
        "\n"
      ]
    },
    {
      "cell_type": "code",
      "execution_count": null,
      "metadata": {
        "id": "1JLHprX9v8Eq"
      },
      "outputs": [],
      "source": [
        "class access:\n",
        "  def __init__(self,name,age):\n",
        "    self.name = name\n",
        "    self.age = age\n",
        "  def show(self):\n",
        "      print(self.name)\n",
        "      print(self.age)\n",
        "\n",
        "obj = access(\"john\",24)\n",
        "obj.show()\n"
      ]
    },
    {
      "cell_type": "markdown",
      "metadata": {
        "id": "mD5Ow4EjzE-s"
      },
      "source": [
        "## PROTECTED : the members of a class that are declared protected are only accessible to class derived from  it \n",
        "class super:\n",
        "  #statements\n",
        "class derived(super):\n",
        "  #statements\n",
        "\n",
        "  #protected variable : _x ,_y"
      ]
    },
    {
      "cell_type": "code",
      "execution_count": null,
      "metadata": {
        "id": "hxvKaPW5z0nb"
      },
      "outputs": [],
      "source": [
        "class A:\n",
        "  def __init__(self,x,y):\n",
        "    self._x = x  #protected variable\n",
        "    self._y = y  #protected variable\n",
        "  def A_show(self):\n",
        "    print(\"super class variable\", self._x,self._y)\n",
        "class B(A):\n",
        "  def __init__(self,x,y,z):\n",
        "    A.__init__(self,x,y)\n",
        "    self.z = z\n",
        "  def B_show(self):\n",
        "    print((self._x + self._y + self.z)/3)\n",
        "obj = B(100,200,300)\n",
        "obj.B_show()"
      ]
    },
    {
      "cell_type": "markdown",
      "metadata": {
        "id": "FnLg0AR08K3q"
      },
      "source": [
        "#Write a program for finding of student average 6 subjects marks\n",
        "# 1) read name and  age , 3 subjects marks in base class\n",
        "# 2)read another 3 subjects in derived class and find average."
      ]
    },
    {
      "cell_type": "markdown",
      "metadata": {
        "id": "ds6LeQnX9UGc"
      },
      "source": [
        "PRIVATE: \n",
        "accessible within the class only\n",
        "Syntax:\n",
        "__x,__y"
      ]
    },
    {
      "cell_type": "code",
      "execution_count": null,
      "metadata": {
        "id": "Ep3k7SjH_nVO"
      },
      "outputs": [],
      "source": [
        "class student:\n",
        "  __name = None\n",
        "  __roll = None\n",
        "  __branch = None\n",
        "\n",
        "  def __init__(self,name ,roll,branch):\n",
        "    self.__name = name\n",
        "    self.__roll = roll\n",
        "    self.__branch = branch\n",
        "  def __displayDetails(self):\n",
        "    print(\"Name: \",self.__name)\n",
        "    print(\"roll :\",self.__roll)\n",
        "    print(\"branch : \",self.__branch)\n",
        "obj= student(\"asdf\",786,\"AI\")\n",
        "obj._student__displayDetails()\n",
        "\n"
      ]
    },
    {
      "cell_type": "markdown",
      "metadata": {
        "id": "CS-UNmlcCz51"
      },
      "source": [
        "# Attributes\n",
        "#1) hasattr\n",
        "#2) getattr\n",
        "#3) delattr"
      ]
    },
    {
      "cell_type": "code",
      "execution_count": null,
      "metadata": {
        "id": "0wsIJ6w3_0ze"
      },
      "outputs": [],
      "source": [
        "class Person:\n",
        "  age = 23\n",
        "  name = 'aditya'\n",
        "person = Person()                                       #person is the object\n",
        "print(\"Person has age? : \", hasattr(person,'age'))      #hasattr\n",
        "print(\"Person has salary?: \", hasattr(person,'salary'))\n",
        "print(\"The age is: \",getattr(person,'age'))             #getattr\n",
        "#print(\"The age is: \",delattr(person,'age'))             #delattr"
      ]
    },
    {
      "cell_type": "markdown",
      "metadata": {
        "id": "N_HTa63X_CTH"
      },
      "source": [
        "# Exceptions\n",
        "#syntax:\n",
        "        try:\n",
        "            #block of codewhere exption is expected\n",
        "        except:\n",
        "            #handling statement for the exception"
      ]
    },
    {
      "cell_type": "code",
      "execution_count": null,
      "metadata": {
        "id": "h4O1dspa_Cqg"
      },
      "outputs": [],
      "source": [
        "try:\n",
        "  a = int(input(\"enter the value of a:\"))\n",
        "  b = int(input(\"enter the value of b:\"))\n",
        "  c = a/b\n",
        "  print(c)\n",
        "\n",
        "except:\n",
        "  print(\"Division with zero is not possible\")\n",
        "\n"
      ]
    },
    {
      "cell_type": "markdown",
      "metadata": {
        "id": "ukYMD1GRDsz6"
      },
      "source": [
        "#Exceptions \n",
        "#Syntax:\n",
        "\n",
        "        try:\n",
        "            #block of codewhere exption is expected\n",
        "        except:\n",
        "            #handling statement for the exception\n",
        "        else:\n",
        "            if no exceptions,this block is executed\n"
      ]
    },
    {
      "cell_type": "code",
      "execution_count": null,
      "metadata": {
        "id": "IGI-VUEACIEx"
      },
      "outputs": [],
      "source": [
        "try:\n",
        "  a = int(input(\"enter the value of a:\"))\n",
        "  b = int(input(\"enter the value of b:\"))\n",
        "  c = a/b\n",
        "  print(c)\n",
        "\n",
        "except:\n",
        "  print(\"Division with zero is not possible\")\n",
        "else:\n",
        "  print(\"no exceptions\")"
      ]
    },
    {
      "cell_type": "markdown",
      "metadata": {
        "id": "NKRaKQwXE7Vi"
      },
      "source": [
        "# Exception class(builtin class)"
      ]
    },
    {
      "cell_type": "code",
      "execution_count": null,
      "metadata": {
        "id": "Zp9ro4INE67q"
      },
      "outputs": [],
      "source": [
        "try:\n",
        "  a = int(input(\"enter the value of a:\"))\n",
        "  b = int(input(\"enter the value of b:\"))\n",
        "  c = a/b\n",
        "  print(c)\n",
        "\n",
        "except Exception:\n",
        "  print(\"Division with zero is not possible\")\n",
        "  print(Exception)\n",
        "else:\n",
        "  print(\"no exceptions\")"
      ]
    },
    {
      "cell_type": "markdown",
      "metadata": {
        "id": "CtoEk1ioGW1q"
      },
      "source": [
        "#creating an object for exception class"
      ]
    },
    {
      "cell_type": "code",
      "execution_count": null,
      "metadata": {
        "id": "f-P4QZI1GWk7"
      },
      "outputs": [],
      "source": [
        "try:\n",
        "  a = int(input(\"enter the value of a:\"))\n",
        "  b = int(input(\"enter the value of b:\"))\n",
        "  c = a/b\n",
        "  print(c)\n",
        "\n",
        "except Exception as e:\n",
        "  #print(\"Division with zero is not possible\")\n",
        "  print(e)\n",
        "else:\n",
        "  print(\"no exceptions\")"
      ]
    },
    {
      "cell_type": "markdown",
      "metadata": {
        "id": "9ci5aTeTHHlM"
      },
      "source": [
        "# Input and Output Exceptions\n",
        "\n",
        "# note: Exception is a base class and IOException is a derived class"
      ]
    },
    {
      "cell_type": "code",
      "execution_count": null,
      "metadata": {
        "id": "PuE-L-XCHH-i"
      },
      "outputs": [],
      "source": [
        "try:\n",
        "  fp = open(\"smile.txt\",\"r\")\n",
        "except IOError:\n",
        "  print(\"file is not opened\")\n",
        "else:\n",
        "  print(\"File is opened successfully\")\n",
        "  fp.close()"
      ]
    },
    {
      "cell_type": "markdown",
      "metadata": {
        "id": "hZnAyLhAILLR"
      },
      "source": [
        "# creating an object for IOExceptions"
      ]
    },
    {
      "cell_type": "code",
      "execution_count": null,
      "metadata": {
        "id": "OiJEQmTwH-f-"
      },
      "outputs": [],
      "source": [
        "try:\n",
        "  fp = open(\"smile.txt\",\"r\")\n",
        "except IOError as e:\n",
        "  #print(\"file is not opened\")\n",
        "  print(e)\n",
        "else:\n",
        "  print(\"File is opened successfully\")\n",
        "  fp.close()"
      ]
    },
    {
      "cell_type": "markdown",
      "metadata": {
        "id": "-C3TH2ooJXFy"
      },
      "source": [
        "# Finally\n",
        " will be executed irrespective of the exception"
      ]
    },
    {
      "cell_type": "code",
      "execution_count": null,
      "metadata": {
        "id": "kpUM1wvYJW6K"
      },
      "outputs": [],
      "source": [
        "try:\n",
        "  fp = open(\"smile.txt\",\"r\")\n",
        "except IOError as e:\n",
        "  #print(\"file is not opened\")\n",
        "  print(e)\n",
        "else:\n",
        "  print(\"File is opened successfully\")\n",
        "  fp.close()\n",
        "finally:\n",
        "  print(\"smile please\")\n"
      ]
    },
    {
      "cell_type": "markdown",
      "metadata": {
        "id": "wjgVqUsgWsTM"
      },
      "source": [
        "# Strings\n",
        "\n",
        "concatenating two strings using + operator"
      ]
    },
    {
      "cell_type": "code",
      "execution_count": null,
      "metadata": {
        "id": "Pp0qT1piJ6L7"
      },
      "outputs": [],
      "source": [
        "str1 = input(\"enter the string1: \")\n",
        "str2 =input(\"enter the string2: \")\n",
        "str3 = str1+str2\n",
        "print(str3)"
      ]
    },
    {
      "cell_type": "code",
      "execution_count": null,
      "metadata": {
        "id": "A1mP885NYIJf"
      },
      "outputs": [],
      "source": [
        "str1 = int(input(\"enter the string1: \"))\n",
        "str = str1+1\n",
        "print(str)\n"
      ]
    },
    {
      "cell_type": "code",
      "execution_count": null,
      "metadata": {
        "id": "yImNpteqYxVJ"
      },
      "outputs": [],
      "source": [
        "x=12\n",
        "y=13\n",
        "z=x+y\n",
        "print(z)"
      ]
    },
    {
      "cell_type": "code",
      "execution_count": null,
      "metadata": {
        "id": "qp8vH6yOZG_Y"
      },
      "outputs": [],
      "source": [
        "x='12'\n",
        "y='13'\n",
        "z=int(x)+int(y)\n",
        "print(z)"
      ]
    },
    {
      "cell_type": "code",
      "execution_count": null,
      "metadata": {
        "id": "vZ1cGcXKaR6B"
      },
      "outputs": [],
      "source": [
        "str = input(\"enter a string: \")\n",
        "print(int(str)-10)"
      ]
    },
    {
      "cell_type": "markdown",
      "metadata": {
        "id": "VFFkufIIbYKQ"
      },
      "source": [
        "# Arrays"
      ]
    },
    {
      "cell_type": "code",
      "execution_count": null,
      "metadata": {
        "id": "y_NSTFRna-xY"
      },
      "outputs": [],
      "source": [
        "fruit = 'banana'\n",
        "letter = fruit[-1]\n",
        "letter2 = fruit[0]\n",
        "print(fruit[1+2])\n",
        "print(\"last index: \",letter)\n",
        "print(\"first index: \",letter2)\n",
        "\n",
        "for i in range(0,len(fruit)):\n",
        "  print(fruit[i])"
      ]
    },
    {
      "cell_type": "markdown",
      "metadata": {
        "id": "xsP6VvlrfBuP"
      },
      "source": [
        "# len() --- returns the length of string"
      ]
    },
    {
      "cell_type": "code",
      "execution_count": null,
      "metadata": {
        "id": "nM9eofMne-BH"
      },
      "outputs": [],
      "source": [
        "fruit = 'banana cake'\n",
        "print(len(fruit))"
      ]
    },
    {
      "cell_type": "code",
      "execution_count": null,
      "metadata": {
        "id": "Z3CC2RC9bz2n"
      },
      "outputs": [],
      "source": [
        "str = \" aditya dhanraj\"\n",
        "for i in range(0,len(str)):\n",
        "  print(str[i],end = \" \")\n",
        "print(str)"
      ]
    },
    {
      "cell_type": "markdown",
      "metadata": {
        "id": "7Av_iSWaTzL8"
      },
      "source": [
        "# Slicing Strings"
      ]
    },
    {
      "cell_type": "code",
      "execution_count": null,
      "metadata": {
        "id": "ri0YImW7g2k3"
      },
      "outputs": [],
      "source": [
        "s = \"Aditya Dhanraj\"\n",
        "print(\"1\",s[0:4])          \n",
        "print(\"2\",s[3:100])\n",
        "print(\"3\",s[ :-2])\n",
        "print(\"4\",s[-2: ])\n",
        "print(\"5\",s[3:-3])\n",
        "print(\"6\",s[-2:-6])\n",
        "print(\"7\",s[-6:-1])\n"
      ]
    },
    {
      "cell_type": "markdown",
      "metadata": {
        "id": "GEK8YOteewxy"
      },
      "source": [
        "#reverse of a string"
      ]
    },
    {
      "cell_type": "code",
      "execution_count": null,
      "metadata": {
        "id": "VQVyj2xvVBVr"
      },
      "outputs": [],
      "source": [
        "s = \"Aditya Dhanraj\"\n",
        "print(s[ : ])\n",
        "print(\"reverse of a string is :\",s[ : :-1])"
      ]
    },
    {
      "cell_type": "code",
      "execution_count": null,
      "metadata": {
        "id": "ZK6LrptTVKz2"
      },
      "outputs": [],
      "source": [
        "s = \"Aditya Dhanraj\"\n",
        "print(s[5: ])\n",
        "print(s[:5])"
      ]
    },
    {
      "cell_type": "markdown",
      "metadata": {
        "id": "-9cjIbk9Z30T"
      },
      "source": [
        "#'in' operator"
      ]
    },
    {
      "cell_type": "code",
      "execution_count": null,
      "metadata": {
        "id": "jNo-pHmUWp6u"
      },
      "outputs": [],
      "source": [
        "str = 'python programming'\n",
        "'python' in str"
      ]
    },
    {
      "cell_type": "code",
      "execution_count": null,
      "metadata": {
        "id": "MVmWAA4XaJGF"
      },
      "outputs": [],
      "source": [
        "str1 = 'aditya'  \n",
        "str2 = 'dhanraj'\n",
        "str1<str2              #compared with their respective ASCII values"
      ]
    },
    {
      "cell_type": "markdown",
      "metadata": {
        "id": "ozBeEMdFbCqe"
      },
      "source": [
        "#String functions \n",
        ".lower()\n",
        ".upper()"
      ]
    },
    {
      "cell_type": "code",
      "execution_count": null,
      "metadata": {
        "id": "rcfsAmDtamGW"
      },
      "outputs": [],
      "source": [
        "s = \"please sMIle, otherwIse Cry\"\n",
        "print(s.lower())\n",
        "print(s.upper())\n"
      ]
    },
    {
      "cell_type": "markdown",
      "metadata": {
        "id": "SBfjM6v6bXA_"
      },
      "source": [
        "#string functions:\n",
        ".capitalize()"
      ]
    },
    {
      "cell_type": "code",
      "execution_count": null,
      "metadata": {
        "id": "gn2rcn56bbqs"
      },
      "outputs": [],
      "source": [
        "s = \"Please sMIle, otherwise cry\"\n",
        "print(s.capitalize())            #converts first letter of the string into a capital letter"
      ]
    },
    {
      "cell_type": "markdown",
      "metadata": {
        "id": "-LACaw7Uby7U"
      },
      "source": [
        "#string functions:\n",
        ".startswith()"
      ]
    },
    {
      "cell_type": "code",
      "execution_count": null,
      "metadata": {
        "id": "D9rU5BQebnZF"
      },
      "outputs": [],
      "source": [
        "s = \"Please sMIle, otherwise cry\"\n",
        "print(s.startswith('Please'))"
      ]
    },
    {
      "cell_type": "markdown",
      "metadata": {
        "id": "P8Ftdd7McIiW"
      },
      "source": [
        "#string functions:\n",
        ".endswith()"
      ]
    },
    {
      "cell_type": "code",
      "execution_count": null,
      "metadata": {
        "id": "DiYwbuJIcLJ_"
      },
      "outputs": [],
      "source": [
        "s = \"Please sMIle, otherwise cry\"\n",
        "print(s.endswith('smile'))"
      ]
    },
    {
      "cell_type": "markdown",
      "metadata": {
        "id": "bGZDr3gAdNkH"
      },
      "source": [
        "# .find()"
      ]
    },
    {
      "cell_type": "code",
      "execution_count": null,
      "metadata": {
        "id": "iwGgy940dGw7"
      },
      "outputs": [],
      "source": [
        "s = \"please smile\"\n",
        "print(s.find('please'))\n",
        "print(s.find('smile'))\n",
        "p = s.find('smile')\n",
        "if p==7:\n",
        "  print(\"happy\")\n",
        "else:\n",
        "  print(\"unhappy\")"
      ]
    },
    {
      "cell_type": "markdown",
      "metadata": {
        "id": "vlhwgQFsd8-G"
      },
      "source": [
        "#.lstrip()\n",
        "#.rstrip()"
      ]
    },
    {
      "cell_type": "code",
      "execution_count": null,
      "metadata": {
        "id": "jRDxJV-sd5ya"
      },
      "outputs": [],
      "source": [
        "s = \"     hii how are you     \"\n",
        "print(s.lstrip())\n",
        "print(s.rstrip())\n",
        "print(s.strip())"
      ]
    },
    {
      "cell_type": "markdown",
      "metadata": {
        "id": "PVbp2C9EL4QO"
      },
      "source": [
        "# List"
      ]
    },
    {
      "cell_type": "code",
      "execution_count": null,
      "metadata": {
        "id": "3q9-fxXfKhqB"
      },
      "outputs": [],
      "source": [
        "l=[10,20,30,\"smile\",\"hi\",20.20]\n",
        "print(type(l))\n",
        "print(l)"
      ]
    },
    {
      "cell_type": "markdown",
      "metadata": {
        "id": "b5i61fCUN9mC"
      },
      "source": [
        "# List within a list"
      ]
    },
    {
      "cell_type": "code",
      "execution_count": null,
      "metadata": {
        "id": "HGYg-jMTNuCk"
      },
      "outputs": [],
      "source": [
        "l=[10,20,30,\"smile\",\"hi\",20.20,[10,20,\"asjkfb\"]]\n",
        "print(l)\n"
      ]
    },
    {
      "cell_type": "code",
      "execution_count": null,
      "metadata": {
        "id": "R0RZzckwPAD_"
      },
      "outputs": [],
      "source": [
        "l=[10,20,30,\"smile\",\"hi\",20.20,[10,20,\"asjkfb\"]]\n",
        "for i in l:\n",
        "  print(i)\n",
        "  "
      ]
    },
    {
      "cell_type": "code",
      "execution_count": null,
      "metadata": {
        "id": "tx1rOzwRPukw"
      },
      "outputs": [],
      "source": [
        "l=[10,20,30,\"smile\",\"hi\",20.20,[10,20,\"asjkfb\"]]\n",
        "\n",
        "print(l[3])  "
      ]
    },
    {
      "cell_type": "code",
      "execution_count": null,
      "metadata": {
        "id": "N8JAR_P6P58J"
      },
      "outputs": [],
      "source": [
        "l=[10,20,30,\"smile\",\"hi\",20.20,[10,20,\"asjkfb\"]]\n",
        "print(l[6 : : -1][2 : : -1])"
      ]
    },
    {
      "cell_type": "code",
      "execution_count": null,
      "metadata": {
        "id": "Cl2hYQXIP56-"
      },
      "outputs": [],
      "source": [
        "l=[10,20,30,\"smile\",\"hi\",20.20,[10,20,\"asjkfb\"]]\n",
        "print(l[-1][::-1])"
      ]
    },
    {
      "cell_type": "code",
      "execution_count": null,
      "metadata": {
        "id": "FDdpTR1tS2Bv"
      },
      "outputs": [],
      "source": [
        "l=[10,20,30,\"smile\",\"hi\",20.20,[10,20,\"asjkfb\"]]\n",
        "print(l[-2:0])"
      ]
    },
    {
      "cell_type": "markdown",
      "metadata": {
        "id": "e-poNSh2WTVg"
      },
      "source": [
        "#concatenating two lists"
      ]
    },
    {
      "cell_type": "markdown",
      "metadata": {
        "id": "eNKtLwFQWTTy"
      },
      "source": []
    },
    {
      "cell_type": "code",
      "execution_count": null,
      "metadata": {
        "id": "y61RRn6oUJc5"
      },
      "outputs": [],
      "source": [
        "l = [10,20,30,40,50]\n",
        "p=[10,20,30,\"smile\",\"hi\",20.20,[10,20,\"asjkfb\"]]\n",
        "\n",
        "#l[4] = 2000\n",
        "l[2:4] = [40,50]\n",
        "print(l+p)"
      ]
    },
    {
      "cell_type": "markdown",
      "metadata": {
        "id": "BrtKYE6WUJiz"
      },
      "source": []
    },
    {
      "cell_type": "markdown",
      "metadata": {
        "id": "FKyFLs4QXkL9"
      },
      "source": [
        "#deleting elements from the list"
      ]
    },
    {
      "cell_type": "code",
      "execution_count": null,
      "metadata": {
        "id": "F_P8SsPJWZMo"
      },
      "outputs": [],
      "source": [
        "l=[1,2,3,4,5,6]\n",
        "del l[0:2]\n",
        "print(l)"
      ]
    },
    {
      "cell_type": "code",
      "execution_count": null,
      "metadata": {
        "id": "QE-yj50sYcAE"
      },
      "outputs": [],
      "source": [
        "l=[1,2,3,4,5,6]\n",
        "l.append([23,354,5676])\n",
        "print(l)"
      ]
    },
    {
      "cell_type": "code",
      "execution_count": null,
      "metadata": {
        "id": "BLlVDRI9Yb-j"
      },
      "outputs": [],
      "source": [
        "l = {2345:254,245:24}\n",
        "print(l.values)\n",
        "print(type(l))"
      ]
    },
    {
      "cell_type": "code",
      "execution_count": null,
      "metadata": {
        "id": "fPSa7nDke2Cp"
      },
      "outputs": [],
      "source": [
        "str1 = \"Hello\"  \n",
        "str2 = \"JavaTpoint\"    \n",
        "str3 = \" \".join([str1, str2])\n",
        "str4 = str1+\" \"+ str2  \n",
        "  \n",
        "print(str3)  \n",
        "print(str4)"
      ]
    },
    {
      "cell_type": "code",
      "execution_count": null,
      "metadata": {
        "id": "1Gu7B2o5iPQs"
      },
      "outputs": [],
      "source": [
        "string = \"aditya\"\n",
        "print(len(string))\n",
        " \n",
        "# with tuple\n",
        "tup = (1,2,3)\n",
        "print(len(tup))\n",
        " \n",
        "# with list\n",
        "l = [1,2,3,4]\n",
        "print(len(l))"
      ]
    },
    {
      "cell_type": "code",
      "execution_count": null,
      "metadata": {
        "id": "b8v2IvbZlbrE"
      },
      "outputs": [],
      "source": [
        "str = \"Aditya\"\n",
        "print(str[4])"
      ]
    },
    {
      "cell_type": "code",
      "execution_count": null,
      "metadata": {
        "id": "G7J2H1OrnPBd"
      },
      "outputs": [],
      "source": [
        "str = \"aditya\"\n",
        "\"adi\" in str"
      ]
    },
    {
      "cell_type": "markdown",
      "metadata": {
        "id": "8DBJcJMe8icp"
      },
      "source": [
        "# Tuple \n",
        "(immutable)"
      ]
    },
    {
      "cell_type": "code",
      "execution_count": null,
      "metadata": {
        "id": "YKSTPFlb8hqj"
      },
      "outputs": [],
      "source": [
        "t = ()\n",
        "print(t)\n",
        "print(type(t))"
      ]
    },
    {
      "cell_type": "code",
      "execution_count": null,
      "metadata": {
        "id": "neNpKG4-Aywd"
      },
      "outputs": [],
      "source": [
        "t=(10,20,\"aditya7\",0,52,60.5,99,'ss',95.5,94.3,90)\n",
        "print(t)\n",
        "print(t[4])\n",
        "print(t[2:6])\n"
      ]
    },
    {
      "cell_type": "code",
      "execution_count": null,
      "metadata": {
        "id": "B2tMOl5FBLeR"
      },
      "outputs": [],
      "source": [
        "#  List(mutable)\n",
        "l = [12,20.2,\"aditya\",'dhanraj',999]\n",
        "l[4] = 99999\n",
        "print(l)"
      ]
    },
    {
      "cell_type": "code",
      "execution_count": null,
      "metadata": {
        "id": "qj9PKJ83DTyx"
      },
      "outputs": [],
      "source": [
        "t=(10,20,\"aditya7\",0,52,60.5,99,'ss',(12,234,67,98,\"fggju\"),95.5,[13,54,67,78],94.3,90)\n",
        "print(t)\n",
        "print(t[10])\n",
        "print(t[10][0])"
      ]
    },
    {
      "cell_type": "code",
      "execution_count": null,
      "metadata": {
        "id": "txiDJq6dE85b"
      },
      "outputs": [],
      "source": [
        "p=\"hello\",\n",
        "print(type(p))"
      ]
    },
    {
      "cell_type": "code",
      "execution_count": null,
      "metadata": {
        "id": "OylL2CxoFU10"
      },
      "outputs": [],
      "source": [
        "t = ('p','e','r','m','i','t')\n",
        "print(t[3])\n",
        "#print(t[8])  IdexError\n",
        "t2 = (\"aditya\",[8,6,1,2],(45,67,98))\n",
        "print(t2[1][2])\n",
        "print(t[-1])"
      ]
    },
    {
      "cell_type": "markdown",
      "metadata": {
        "id": "Hh8CQQWYH9RN"
      },
      "source": [
        "#Slicing in tuple"
      ]
    },
    {
      "cell_type": "code",
      "execution_count": null,
      "metadata": {
        "id": "CBRhS9Z-GqkE"
      },
      "outputs": [],
      "source": [
        "t2 = (\"aditya\",[8,6,1,2],(45,67,98),12,556,563)\n",
        "print(t2[::2])\n",
        "print(t2[4:10])\n",
        "print(t2[-5:-1])\n",
        "print(t2[ :-5])\n"
      ]
    },
    {
      "cell_type": "code",
      "execution_count": null,
      "metadata": {
        "id": "YqnWrjPQJZcz"
      },
      "outputs": [],
      "source": [
        "t =(1,2,4,5,7,8,5,3,2,4,6)\n",
        "print(t[:-5])\n",
        "print(t[-5:])\n",
        "print(t[-3:])\n",
        "print(t[4:4])"
      ]
    },
    {
      "cell_type": "code",
      "execution_count": null,
      "metadata": {
        "id": "-8d39p0kMprL"
      },
      "outputs": [],
      "source": [
        "t =(1,2,4,5,7,8,5,3,2,4,6)\n",
        "t2 = (234,43,567,4,14)\n",
        "print(t+t2)\n",
        "x=t+t2\n",
        "print((23,5,567)*4)\n",
        "print((t2)*4)\n",
        "print(x*2)\n",
        "del t\n",
        "#print(t)"
      ]
    },
    {
      "cell_type": "markdown",
      "metadata": {
        "id": "UIRptcoLQldd"
      },
      "source": [
        "#Printing tuple elements using for ;loop"
      ]
    },
    {
      "cell_type": "code",
      "execution_count": null,
      "metadata": {
        "id": "EdtcvNUoOKfU"
      },
      "outputs": [],
      "source": [
        "t = (\"Adit\",\"ya\",\"Dhanraj\",\"adf\")\n",
        "for i in t:\n",
        "  print(i,end=\" \")"
      ]
    },
    {
      "cell_type": "code",
      "execution_count": null,
      "metadata": {
        "id": "ca_4y8--QrhR"
      },
      "outputs": [],
      "source": [
        "tup=(12,45,32,4678,883,44)\n",
        "print(max(tup))\n",
        "print(min(tup))\n",
        "print(len(tup))\n",
        "print(sum(tup))\n"
      ]
    },
    {
      "cell_type": "markdown",
      "metadata": {
        "id": "zDRtn8XyHR24"
      },
      "source": [
        "#Dictionary\n",
        "\n",
        "# 1)dictionary is an unordered items and each dictionary has key and value pairs\n",
        "#{key:value}"
      ]
    },
    {
      "cell_type": "code",
      "execution_count": null,
      "metadata": {
        "id": "si5Y4Q8LUQsc"
      },
      "outputs": [],
      "source": [
        "x = {}\n",
        "print(type(x))"
      ]
    },
    {
      "cell_type": "code",
      "execution_count": null,
      "metadata": {
        "id": "YTXaorfUHuLO"
      },
      "outputs": [],
      "source": [
        "x= {1:104,2:\"aditya\",3:13.24,4:'wrfc'}\n",
        "print(x)\n",
        "print(x[4])\n"
      ]
    },
    {
      "cell_type": "code",
      "execution_count": null,
      "metadata": {
        "id": "n88jUg6UIQxH"
      },
      "outputs": [],
      "source": [
        "y = {\"aditya\":1,\"gat\":2,\"sd\":3}\n",
        "print(y)\n",
        "print(y[\"aditya\"])"
      ]
    },
    {
      "cell_type": "code",
      "execution_count": null,
      "metadata": {
        "id": "MX73amJFJI-u"
      },
      "outputs": [],
      "source": [
        "z = {1:104,2:\"aditya\",3:13.24,4:'wrfc',\"aditya\":1,\"gat\":2,\"sd\":3}\n",
        "print(z)"
      ]
    },
    {
      "cell_type": "markdown",
      "metadata": {
        "id": "Bx7BnjS1JryO"
      },
      "source": [
        "# dict() is a built-in function in python."
      ]
    },
    {
      "cell_type": "code",
      "execution_count": null,
      "metadata": {
        "id": "3PqaFxG6Jz-u"
      },
      "outputs": [],
      "source": [
        "q = dict({'a':1,'b':2,'c':[12,2343,67687,54243,1]})\n",
        "print(q['c'][2])"
      ]
    },
    {
      "cell_type": "code",
      "execution_count": null,
      "metadata": {
        "id": "E7SeGCRaKj-m"
      },
      "outputs": [],
      "source": [
        "print(q['c'][3])"
      ]
    },
    {
      "cell_type": "code",
      "execution_count": null,
      "metadata": {
        "id": "qyDsQV3DLG5A"
      },
      "outputs": [],
      "source": [
        "dict = {'rollno':'20911A3552','name':'Aditya','branch':'AI','section':'A','age':19,'height':'5.11ft'}\n",
        "print(dict['rollno'])\n",
        "print(dict['name'])\n",
        "print(dict['branch'])\n",
        "print(dict['section'])\n",
        "print(dict['age'])\n",
        "print(dict['height'])"
      ]
    },
    {
      "cell_type": "markdown",
      "metadata": {
        "id": "wPTe0rx0NLun"
      },
      "source": [
        "# Changing and insering the values in dictionaries"
      ]
    },
    {
      "cell_type": "code",
      "execution_count": null,
      "metadata": {
        "id": "KrEDtoVjM7xX"
      },
      "outputs": [],
      "source": [
        "dict['rollno'] = 3552\n",
        "dict['lastName'] = 'S'\n",
        "print(dict)"
      ]
    },
    {
      "cell_type": "markdown",
      "metadata": {
        "id": "7JeVLsLQOBW2"
      },
      "source": [
        "# del()-Deleting elements from the dictionary"
      ]
    },
    {
      "cell_type": "code",
      "execution_count": null,
      "metadata": {
        "id": "YUJFk5MzNS7O"
      },
      "outputs": [],
      "source": [
        "del dict['lastName']\n",
        "print(dict)"
      ]
    },
    {
      "cell_type": "code",
      "execution_count": null,
      "metadata": {
        "id": "qWMZjGHgO6KO"
      },
      "outputs": [],
      "source": [
        "for key in dict:\n",
        "  print(key)"
      ]
    },
    {
      "cell_type": "markdown",
      "metadata": {
        "id": "Z5aqDRrjQGD2"
      },
      "source": [
        "#Printing key and value pairs using for loop"
      ]
    },
    {
      "cell_type": "code",
      "execution_count": null,
      "metadata": {
        "id": "w4Or2vzwPMxd"
      },
      "outputs": [],
      "source": [
        "for keyval in dict.items():\n",
        "  print(keyval)\n",
        "  "
      ]
    },
    {
      "cell_type": "markdown",
      "metadata": {
        "id": "1Y4hIebtQ7Dw"
      },
      "source": [
        "#Nested dictionaries"
      ]
    },
    {
      "cell_type": "code",
      "execution_count": null,
      "metadata": {
        "id": "nF1C3SFrQoIw"
      },
      "outputs": [],
      "source": [
        "stud = {\"aditya\" : {'AI':99,'ds':97,'daa':90},\n",
        "        \"arun\": {'AI':98,'ds':87,'daa':80},\n",
        "        \"fgbs\": {'AI':88,'ds':89,'daa':90}}\n",
        "for key,value in stud.items():\n",
        "  print(key)\n",
        "  print(value)"
      ]
    },
    {
      "cell_type": "markdown",
      "metadata": {
        "id": "NKjtnjvKT9xf"
      },
      "source": [
        "#copy() in dict"
      ]
    },
    {
      "cell_type": "code",
      "execution_count": null,
      "metadata": {
        "id": "FqcIfT4wT9cw"
      },
      "outputs": [],
      "source": [
        "new = stud.copy()\n",
        "print(new)"
      ]
    },
    {
      "cell_type": "markdown",
      "metadata": {
        "id": "RfYEVsOiTpM_"
      },
      "source": [
        "#clear() in dict"
      ]
    },
    {
      "cell_type": "code",
      "execution_count": null,
      "metadata": {
        "id": "nATDHGn8TVvv"
      },
      "outputs": [],
      "source": [
        "stud.clear()\n",
        "print(stud)"
      ]
    },
    {
      "cell_type": "markdown",
      "metadata": {
        "id": "a04i11nMiVNH"
      },
      "source": [
        "#fromkeys() in dict"
      ]
    },
    {
      "cell_type": "code",
      "execution_count": null,
      "metadata": {
        "id": "nlY1W4-uT1Qf"
      },
      "outputs": [],
      "source": [
        "keys = {'a','e','i','o','u','o'}\n",
        "mydict = dict.fromkeys(keys)\n",
        "print(mydict)"
      ]
    },
    {
      "cell_type": "markdown",
      "metadata": {
        "id": "SVQ-GFF8XvNm"
      },
      "source": [
        "#get() in dict"
      ]
    },
    {
      "cell_type": "code",
      "execution_count": null,
      "metadata": {
        "id": "6y_R034bZBQv"
      },
      "outputs": [],
      "source": [
        "per = {'name':'phill','age':19,'branch' : 'AI'}\n",
        "for i in per.keys():\n",
        "  print(per.get(i))"
      ]
    },
    {
      "cell_type": "markdown",
      "metadata": {
        "id": "rG_-HLVKaBSm"
      },
      "source": [
        "#items() in dict"
      ]
    },
    {
      "cell_type": "code",
      "execution_count": null,
      "metadata": {
        "id": "SYUPxlRbZLb_"
      },
      "outputs": [],
      "source": [
        "print(per.items())"
      ]
    },
    {
      "cell_type": "markdown",
      "metadata": {
        "id": "OL7TRKZyZ-Pf"
      },
      "source": [
        "#values() in dict"
      ]
    },
    {
      "cell_type": "code",
      "execution_count": null,
      "metadata": {
        "id": "SyVIO7kJZWR3"
      },
      "outputs": [],
      "source": [
        "print(per.values())"
      ]
    },
    {
      "cell_type": "markdown",
      "metadata": {
        "id": "1TqRp_x3Z5Cn"
      },
      "source": [
        "#popitem() in dict"
      ]
    },
    {
      "cell_type": "code",
      "execution_count": null,
      "metadata": {
        "id": "glC2YaMLZb1_"
      },
      "outputs": [],
      "source": [
        "dic = {1:12,2:23,3:134,4:1234,5:567}\n",
        "dic.popitem()"
      ]
    },
    {
      "cell_type": "code",
      "execution_count": null,
      "metadata": {
        "id": "m_U_vqSAaSs4"
      },
      "outputs": [],
      "source": [
        "dic['height'] = 6\n",
        "dic['weight'] = 68\n",
        "print(dic)\n",
        "dic.popitem()"
      ]
    },
    {
      "cell_type": "markdown",
      "metadata": {
        "id": "JLyJooRLcEf_"
      },
      "source": [
        "# setdefault() in dict-\n",
        "returns value if the key is present in the dictionary"
      ]
    },
    {
      "cell_type": "code",
      "execution_count": null,
      "metadata": {
        "id": "j3coCPS7cECX"
      },
      "outputs": [],
      "source": [
        "dic.setdefault('height')"
      ]
    },
    {
      "cell_type": "code",
      "execution_count": null,
      "metadata": {
        "id": "LNPugn7WcwhK"
      },
      "outputs": [],
      "source": [
        "dic.setdefault('name')"
      ]
    },
    {
      "cell_type": "markdown",
      "metadata": {
        "id": "gpnZyPAcdQo2"
      },
      "source": [
        "# pop() in dict"
      ]
    },
    {
      "cell_type": "code",
      "execution_count": null,
      "metadata": {
        "id": "zPzhfDsMdPy3"
      },
      "outputs": [],
      "source": [
        "dict = {1: 12, 2: 23, 3: 134, 4: 1234, 'height': 6, 'weight': 68}\n",
        "dictionary = dict.pop(1) \n",
        "print(dictionary)"
      ]
    },
    {
      "cell_type": "markdown",
      "metadata": {
        "id": "3axPhwZWeppi"
      },
      "source": [
        "#update() in dict"
      ]
    },
    {
      "cell_type": "code",
      "execution_count": null,
      "metadata": {
        "id": "5dAMbUkkd0PX"
      },
      "outputs": [],
      "source": [
        "d = {'x':1,'y':2,'z' : 7}\n",
        "d.update(y=3,z=4)  #tuple values are updated to the dictionary\n",
        "print(d)"
      ]
    },
    {
      "cell_type": "code",
      "execution_count": null,
      "metadata": {
        "id": "TOy1ZoU9et7n"
      },
      "outputs": [],
      "source": [
        "d = {'x':1,'y':2,'z' : 7}\n",
        "e = {'a':2,'b':3}\n",
        "d.update(e)\n",
        "print(d)"
      ]
    },
    {
      "cell_type": "code",
      "execution_count": null,
      "metadata": {
        "id": "OdU1jD8XgDw_"
      },
      "outputs": [],
      "source": [
        "print(len(d))\n",
        "print(all(d))\n",
        "print(any(d))\n",
        "A={}\n",
        "print(any(A))\n",
        "print(all(A))"
      ]
    },
    {
      "cell_type": "markdown",
      "metadata": {
        "id": "RzX8g5oPDkof"
      },
      "source": [
        "#Numpy"
      ]
    },
    {
      "cell_type": "code",
      "source": [],
      "metadata": {
        "id": "mGbnlF_TW_FI"
      },
      "execution_count": null,
      "outputs": []
    },
    {
      "cell_type": "code",
      "execution_count": null,
      "metadata": {
        "id": "PCiIi7_nC6Db",
        "colab": {
          "base_uri": "https://localhost:8080/"
        },
        "outputId": "2f4094bd-9c4b-44ca-9443-bbf73d0f04b5"
      },
      "outputs": [
        {
          "output_type": "stream",
          "name": "stdout",
          "text": [
            "[110 220 330 440]\n",
            "4\n",
            "(4,)\n",
            "1\n"
          ]
        }
      ],
      "source": [
        "import numpy as np\n",
        "a = np.array([10,20,30,40])\n",
        "b = np.array([100,200,300,400])\n",
        "c = a+b\n",
        "print(c)\n",
        "print(c.size)\n",
        "print(c.shape)\n",
        "print(c.ndim)"
      ]
    },
    {
      "cell_type": "markdown",
      "metadata": {
        "id": "4-MG_o-LGVv_"
      },
      "source": []
    },
    {
      "cell_type": "code",
      "execution_count": null,
      "metadata": {
        "id": "4RQBzIqFHF_k"
      },
      "outputs": [],
      "source": [
        "import numpy as np\n",
        "a = np.array([[2,4,6],[3,6,9],[1,2,3],[4,6,9]])\n",
        "b = np.array([[1,3,5],[9,6,4],[4,2,6],[3,6,9]])\n",
        "c = a+b\n",
        "d =a-b\n",
        "e = a/b\n",
        "f = a*b\n",
        "print(c.size)\n",
        "print(c.shape)\n",
        "print(c.ndim)\n",
        "print(\"\") # Emppty line\n",
        "print(c)\n",
        "\n",
        "print(d.size)\n",
        "print(d.shape)\n",
        "print(d.ndim)\n",
        "print(\"\") # Emppty line\n",
        "print(d)\n",
        "\n",
        "print(e.size)\n",
        "print(e.shape)\n",
        "print(e.ndim)\n",
        "print(\"\") # Emppty line\n",
        "print(e)\n",
        "\n",
        "print(f.size)\n",
        "print(f.shape)\n",
        "print(f.ndim)\n",
        "print(\"\") # Emppty line\n",
        "print(f)"
      ]
    },
    {
      "cell_type": "code",
      "execution_count": null,
      "metadata": {
        "id": "Ki3NVRViH549"
      },
      "outputs": [],
      "source": [
        "A = np.array([\n",
        "              [10,20,30],\n",
        "              [40,50,60],\n",
        "              [10,20,30],\n",
        "              [51,52,83]\n",
        "              ])\n",
        "print(A)\n",
        "print(A[3][2])"
      ]
    },
    {
      "cell_type": "markdown",
      "metadata": {
        "id": "bNDjZdxRIgrm"
      },
      "source": [
        "#3D matrix"
      ]
    },
    {
      "cell_type": "code",
      "execution_count": null,
      "metadata": {
        "id": "atS_nDkIIavW",
        "colab": {
          "base_uri": "https://localhost:8080/"
        },
        "outputId": "2ef932d2-4ab2-4c9b-b3b8-c7b358fc4825"
      },
      "outputs": [
        {
          "output_type": "stream",
          "name": "stdout",
          "text": [
            "15\n",
            "(5, 3)\n",
            "2\n",
            "object\n"
          ]
        },
        {
          "output_type": "stream",
          "name": "stderr",
          "text": [
            "/usr/local/lib/python3.7/dist-packages/ipykernel_launcher.py:4: VisibleDeprecationWarning: Creating an ndarray from ragged nested sequences (which is a list-or-tuple of lists-or-tuples-or ndarrays with different lengths or shapes) is deprecated. If you meant to do this, you must specify 'dtype=object' when creating the ndarray.\n",
            "  after removing the cwd from sys.path.\n"
          ]
        }
      ],
      "source": [
        "A = np.array([\n",
        "              [[10,20,30],[52,62,42],[33,25,76]],\n",
        "              [[2,3,4],[7,5,3],[8,6,4]],\n",
        "              [20,40,60],[40,50,60],[50,20,10]]\n",
        "              )\n",
        "#print(A)\n",
        "print(A.size)\n",
        "print(A.shape)\n",
        "print(A.ndim)\n",
        "print(A.dtype)"
      ]
    },
    {
      "cell_type": "code",
      "execution_count": null,
      "metadata": {
        "id": "h_GYviGpKLpN"
      },
      "outputs": [],
      "source": [
        "a = np.zeros(7)\n",
        "print(a)\n",
        "print(a.ndim)\n",
        "print(a.size)\n",
        "print(a.shape)\n",
        "print(type(a))"
      ]
    },
    {
      "cell_type": "markdown",
      "metadata": {
        "id": "YlzjauuELXak"
      },
      "source": [
        "#.zeros()"
      ]
    },
    {
      "cell_type": "code",
      "execution_count": null,
      "metadata": {
        "id": "etaTMDorK40F",
        "colab": {
          "base_uri": "https://localhost:8080/",
          "height": 235
        },
        "outputId": "2475b492-4503-4633-9a73-23e97e12e4ef"
      },
      "outputs": [
        {
          "output_type": "error",
          "ename": "NameError",
          "evalue": "ignored",
          "traceback": [
            "\u001b[0;31m---------------------------------------------------------------------------\u001b[0m",
            "\u001b[0;31mNameError\u001b[0m                                 Traceback (most recent call last)",
            "\u001b[0;32m<ipython-input-1-25fef81ba810>\u001b[0m in \u001b[0;36m<module>\u001b[0;34m\u001b[0m\n\u001b[0;32m----> 1\u001b[0;31m \u001b[0ma\u001b[0m \u001b[0;34m=\u001b[0m \u001b[0mnp\u001b[0m\u001b[0;34m.\u001b[0m\u001b[0mzeros\u001b[0m\u001b[0;34m(\u001b[0m\u001b[0;34m(\u001b[0m\u001b[0;36m6\u001b[0m\u001b[0;34m,\u001b[0m\u001b[0;36m6\u001b[0m\u001b[0;34m)\u001b[0m\u001b[0;34m)\u001b[0m\u001b[0;34m\u001b[0m\u001b[0;34m\u001b[0m\u001b[0m\n\u001b[0m\u001b[1;32m      2\u001b[0m \u001b[0mprint\u001b[0m\u001b[0;34m(\u001b[0m\u001b[0ma\u001b[0m\u001b[0;34m)\u001b[0m\u001b[0;34m\u001b[0m\u001b[0;34m\u001b[0m\u001b[0m\n\u001b[1;32m      3\u001b[0m \u001b[0mprint\u001b[0m\u001b[0;34m(\u001b[0m\u001b[0ma\u001b[0m\u001b[0;34m.\u001b[0m\u001b[0mndim\u001b[0m\u001b[0;34m)\u001b[0m\u001b[0;34m\u001b[0m\u001b[0;34m\u001b[0m\u001b[0m\n\u001b[1;32m      4\u001b[0m \u001b[0mprint\u001b[0m\u001b[0;34m(\u001b[0m\u001b[0ma\u001b[0m\u001b[0;34m.\u001b[0m\u001b[0msize\u001b[0m\u001b[0;34m)\u001b[0m\u001b[0;34m\u001b[0m\u001b[0;34m\u001b[0m\u001b[0m\n\u001b[1;32m      5\u001b[0m \u001b[0mprint\u001b[0m\u001b[0;34m(\u001b[0m\u001b[0ma\u001b[0m\u001b[0;34m.\u001b[0m\u001b[0mshape\u001b[0m\u001b[0;34m)\u001b[0m\u001b[0;34m\u001b[0m\u001b[0;34m\u001b[0m\u001b[0m\n",
            "\u001b[0;31mNameError\u001b[0m: name 'np' is not defined"
          ]
        }
      ],
      "source": [
        "a = np.zeros((6,6))\n",
        "print(a)\n",
        "print(a.ndim)\n",
        "print(a.size)\n",
        "print(a.shape)\n",
        "print(type(a))\n"
      ]
    },
    {
      "cell_type": "markdown",
      "metadata": {
        "id": "edBI8b8nLbjW"
      },
      "source": [
        "#.ones()"
      ]
    },
    {
      "cell_type": "code",
      "execution_count": null,
      "metadata": {
        "id": "IsUoFS5CLNA1"
      },
      "outputs": [],
      "source": [
        "a = np.ones(5)\n",
        "b = np.ones((5,5))\n",
        "\n",
        "print(a)\n",
        "print(b)"
      ]
    },
    {
      "cell_type": "markdown",
      "metadata": {
        "id": "ajhEGrezL8Ll"
      },
      "source": [
        "#.eye(size) - Identity matrix "
      ]
    },
    {
      "cell_type": "code",
      "execution_count": null,
      "metadata": {
        "id": "JqHLLh3PL05M"
      },
      "outputs": [],
      "source": [
        "a = np.eye(4)\n",
        "b = np.eye(4,6)\n",
        "print(a)\n",
        "print(\"\")\n",
        "print(b)"
      ]
    },
    {
      "cell_type": "markdown",
      "metadata": {
        "id": "Nqb7lKBVO2TF"
      },
      "source": [
        "# .reshape()  - for reshaping the matrix "
      ]
    },
    {
      "cell_type": "code",
      "execution_count": null,
      "metadata": {
        "id": "31oUbkhNMsMM"
      },
      "outputs": [],
      "source": [
        "a = np.array([ [5,5,5,5], [6,6,6,6],[7,7,7,7],[8,8,8,8]])\n",
        "print(a.shape)\n",
        "print(a.reshape(8,2))\n",
        "print(\"\")\n",
        "print(a.reshape(2,8))\n",
        "print(\"\")\n",
        "print(a.reshape(1,16))\n",
        "\n",
        "print(a)\n"
      ]
    },
    {
      "cell_type": "code",
      "execution_count": null,
      "metadata": {
        "id": "RIPqIxqAP7A3"
      },
      "outputs": [],
      "source": [
        "a = np.array([ [5,5,5,5,5], [6,6,6,6,6],[7,7,7,7,7],[8,8,8,8,8]])\n",
        "print(a)  \n",
        "print(\"\")            #printing all rows and all columns of the matrix\n",
        "print(a[ : , ])\n",
        "print(\"\")\n",
        "print(a[ : , : ])    \n",
        "print(\"\")\n",
        "print(a[3, : ])      # slicing   array[rows,columns]\n",
        "print(\"\")\n",
        "print(a[ : , 3])\n",
        "print(\"\")\n",
        "print(a[2:4,3:5])    #filtering out a sub matrix\n",
        "print(\"\")\n",
        "print(a[0:2,0:2])\n",
        "print(\"\")\n",
        "print(a[1:3,2:4])\n",
        "print(\"\")\n",
        "\n",
        "\n"
      ]
    },
    {
      "cell_type": "markdown",
      "metadata": {
        "id": "VPmW1Bw5VY6D"
      },
      "source": [
        "#.arange()"
      ]
    },
    {
      "cell_type": "code",
      "execution_count": null,
      "metadata": {
        "id": "F2U6AtzNVQaa"
      },
      "outputs": [],
      "source": [
        "a = np.arange(1,100,1)\n",
        "print(a)"
      ]
    },
    {
      "cell_type": "markdown",
      "metadata": {
        "id": "BHZo7V9BW5aq"
      },
      "source": [
        "#combining of .arange() and .reshape()"
      ]
    },
    {
      "cell_type": "code",
      "execution_count": null,
      "metadata": {
        "id": "IeZigSmIWzRz"
      },
      "outputs": [],
      "source": [
        "a = np.arange(1,31).reshape((6,5))\n",
        "print(a)\n",
        "print(a.size)\n",
        "print(a.shape)\n",
        "print(a[2][4])\n",
        "print(a.ravel())"
      ]
    },
    {
      "cell_type": "code",
      "execution_count": null,
      "metadata": {
        "id": "9r3O2ua3WNqK"
      },
      "outputs": [],
      "source": [
        "a = np.arange(40,60,2).reshape((5,2))\n",
        "print(a)"
      ]
    },
    {
      "cell_type": "markdown",
      "metadata": {
        "id": "qnPhkEkaYyPC"
      },
      "source": [
        "#numpy version check"
      ]
    },
    {
      "cell_type": "code",
      "execution_count": null,
      "metadata": {
        "id": "BuFRnJ3UYowy"
      },
      "outputs": [],
      "source": [
        "import numpy as np\n",
        "print(np.__version__)"
      ]
    },
    {
      "cell_type": "markdown",
      "metadata": {
        "id": "GnHeZ7IyaT1a"
      },
      "source": [
        "#using random from numpy"
      ]
    },
    {
      "cell_type": "code",
      "execution_count": null,
      "metadata": {
        "id": "gtm4vLSPZqNC"
      },
      "outputs": [],
      "source": [
        "from numpy import random\n",
        "x = random.choice([3,5,7,9], p = (0.1,0.2,0.3,0.4),size = (100)).reshape(10,10)\n",
        "print(x)"
      ]
    },
    {
      "cell_type": "markdown",
      "metadata": {
        "id": "ND3UabEcI9-0"
      },
      "source": [
        "#Pandas : \n",
        "this library is used for handling comma seperated values"
      ]
    },
    {
      "cell_type": "code",
      "execution_count": null,
      "metadata": {
        "id": "Q0LgXyDGaYY6",
        "colab": {
          "base_uri": "https://localhost:8080/"
        },
        "outputId": "8598cd80-b75e-43ed-e5ef-2b874afb8ac0"
      },
      "outputs": [
        {
          "output_type": "stream",
          "name": "stdout",
          "text": [
            "1.3.5\n"
          ]
        }
      ],
      "source": [
        "import pandas as pd\n",
        "print(pd.__version__)"
      ]
    },
    {
      "cell_type": "markdown",
      "metadata": {
        "id": "u9oRYdn7KPXr"
      },
      "source": [
        "#Analysis of datasets\n",
        "(picture form,video form,numerical dataset)supports .\n",
        "Series(handles 1D data) .  Data frame(handles 2D data) .  Panels(3D data)"
      ]
    },
    {
      "cell_type": "markdown",
      "metadata": {
        "id": "ktIRytyfQqLJ"
      },
      "source": [
        "#Series-1D"
      ]
    },
    {
      "cell_type": "code",
      "execution_count": null,
      "metadata": {
        "id": "ffVoYPxtKOva",
        "colab": {
          "base_uri": "https://localhost:8080/"
        },
        "outputId": "2394ff72-f8ab-4f09-a022-da32b4712102"
      },
      "outputs": [
        {
          "output_type": "stream",
          "name": "stdout",
          "text": [
            "0    10\n",
            "1    20\n",
            "2    30\n",
            "dtype: int64\n"
          ]
        }
      ],
      "source": [
        "x = [10,20,30]\n",
        "s = pd.Series(x)\n",
        "print(s)                                                                                                     "
      ]
    },
    {
      "cell_type": "code",
      "execution_count": null,
      "metadata": {
        "id": "MIUzpF6hLmSa",
        "colab": {
          "base_uri": "https://localhost:8080/"
        },
        "outputId": "c6456e3b-15b2-453b-857f-fe0450f67250"
      },
      "outputs": [
        {
          "output_type": "stream",
          "name": "stdout",
          "text": [
            "11    10\n",
            "22    20\n",
            "33    30\n",
            "dtype: int64\n"
          ]
        }
      ],
      "source": [
        "x=[10,20,30]\n",
        "s = pd.Series(x,index=[11,22,33])\n",
        "print(s)"
      ]
    },
    {
      "cell_type": "code",
      "execution_count": null,
      "metadata": {
        "id": "XdDYqWr2MI4p"
      },
      "outputs": [],
      "source": [
        "sub = {\"EP\":92,\"DAA\":86,\"ML\":90}\n",
        "i = pd.Series(sub)\n",
        "print(i)"
      ]
    },
    {
      "cell_type": "markdown",
      "metadata": {
        "id": "iqTjUKXRQnSA"
      },
      "source": [
        "#DataFrame-2D data"
      ]
    },
    {
      "cell_type": "code",
      "execution_count": null,
      "metadata": {
        "id": "kxwUvoNyNGI6"
      },
      "outputs": [],
      "source": [
        "x = {\"Names\":[\"Hari\",\"Rajesh\",\"Yeshwanth\",\"sura\"],\"Weights\":[20,30,40,50],\"Rollno\":[10,11,12,13]}\n",
        "s = pd.DataFrame(x,index = [0,1,2,3])\n",
        "print(s)\n",
        "print(s.loc[[2,3]])"
      ]
    },
    {
      "cell_type": "code",
      "execution_count": null,
      "metadata": {
        "id": "229m6WiYQC_E"
      },
      "outputs": [],
      "source": [
        "x = {\"Names\":[\"Hari\",\"Rajesh\",\"Yeshwanth\",\"sura\"],\"Weights\":[20,30,40,50],\"Rollno\":[10,11,12,13]}      \n"
      ]
    },
    {
      "cell_type": "markdown",
      "metadata": {
        "id": "Rd4pPqZ_NpHg"
      },
      "source": [
        "#Program to calculate Mean, Median ,and Mode of the given values in a list"
      ]
    },
    {
      "cell_type": "code",
      "execution_count": null,
      "metadata": {
        "id": "gp6Xxl_pD0gC"
      },
      "outputs": [],
      "source": [
        "import numpy\n",
        "from scipy import stats\n",
        "\n",
        "speed = [99,86,87,88,111,86,103,87,94,78,77,85,86]\n",
        "\n",
        "x = numpy.mean(speed)\n",
        "y = numpy.median(speed)\n",
        "z = stats.mode(speed)\n",
        "\n",
        "print(x)\n",
        "print(y)\n",
        "print(z)"
      ]
    },
    {
      "cell_type": "markdown",
      "metadata": {
        "id": "6dg1A5MvQUoq"
      },
      "source": [
        "#Python program to convert in feet to inches, yards, and miles"
      ]
    },
    {
      "cell_type": "code",
      "execution_count": null,
      "metadata": {
        "id": "zijnsuGTOTmP"
      },
      "outputs": [],
      "source": [
        "d_ft = int(input(\"Input distance in feet: \"))\n",
        "d_inches = d_ft * 12\n",
        "d_yards = d_ft / 3.0\n",
        "d_miles = d_ft / 5280.0\n",
        "\n",
        "print(\"The distance in inches is %i inches.\" % d_inches)\n",
        "print(\"The distance in yards is %.2f yards.\" % d_yards)\n",
        "print(\"The distance in miles is %.2f miles.\" % d_miles)"
      ]
    },
    {
      "cell_type": "code",
      "execution_count": null,
      "metadata": {
        "id": "6tA5nlFzRs__"
      },
      "outputs": [],
      "source": [
        "print(\"Enter 1st Number\")\n",
        "num1 = int(input())\n",
        "print('Enter 2nd Number')\n",
        "num2 = int(input())\n",
        "print('so What you Want?'+'+,-,/,%,*')\n",
        "num3 =input()\n",
        "\n",
        "if num1 ==45 and num2==3 and num3=='*':\n",
        "    print(\"555\")\n",
        "elif num1 == 56 and num2 == 9 and num3 == '+':\n",
        "        print(\"77\")\n",
        "elif num1 == 56 and num2 == 6 and num3 == '/':\n",
        "        print(\"4\")\n",
        "elif num3=='*' :\n",
        "    num4=num1*num2\n",
        "    print(num4)\n",
        "elif num3 == '+':\n",
        "    plus=num2+num1\n",
        "    print(plus)\n",
        "elif num3 == '/':\n",
        "    Dev=num2/num1\n",
        "    print(Dev)\n",
        "elif num3 == '-':\n",
        "    Dev=num2-num1\n",
        "    print(Dev)\n",
        "elif num3 == '%':\n",
        "    percent=num2%num1\n",
        "    print(percent)\n",
        "else:\n",
        "    print(\"Error! Please check your input\")"
      ]
    },
    {
      "cell_type": "code",
      "execution_count": null,
      "metadata": {
        "id": "JfuK44MrsUVA"
      },
      "outputs": [],
      "source": [
        "from collections import Counter\n",
        "#x = int(input(\"enter the element : \"))\n",
        "mylist = []\n",
        "n = int(input(\"enter number of elements :\"))\n",
        "for i in range(0,n):\n",
        "    element = int(input())\n",
        "    mylist.append(element)\n",
        "\n",
        "y = Counter(mylist)\n",
        "print(y)\n"
      ]
    }
  ],
  "metadata": {
    "colab": {
      "toc_visible": true,
      "provenance": [],
      "include_colab_link": true
    },
    "kernelspec": {
      "display_name": "Python 3",
      "name": "python3"
    },
    "language_info": {
      "name": "python"
    }
  },
  "nbformat": 4,
  "nbformat_minor": 0
}