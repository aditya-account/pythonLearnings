{
  "nbformat": 4,
  "nbformat_minor": 0,
  "metadata": {
    "colab": {
      "provenance": [],
      "authorship_tag": "ABX9TyNIh05GZDg5npmbnVY9d90a",
      "include_colab_link": true
    },
    "kernelspec": {
      "name": "python3",
      "display_name": "Python 3"
    },
    "language_info": {
      "name": "python"
    }
  },
  "cells": [
    {
      "cell_type": "markdown",
      "metadata": {
        "id": "view-in-github",
        "colab_type": "text"
      },
      "source": [
        "<a href=\"https://colab.research.google.com/github/aditya-account/pythonLearnings/blob/main/HigherOrderFunctions.ipynb\" target=\"_parent\"><img src=\"https://colab.research.google.com/assets/colab-badge.svg\" alt=\"Open In Colab\"/></a>"
      ]
    },
    {
      "cell_type": "code",
      "execution_count": null,
      "metadata": {
        "id": "PpDLlQybV4ka",
        "colab": {
          "base_uri": "https://localhost:8080/"
        },
        "outputId": "360617fe-4049-4465-cf87-9f441a7bbdc1"
      },
      "outputs": [
        {
          "output_type": "stream",
          "name": "stdout",
          "text": [
            "The raius of the circle is 0.93\n"
          ]
        }
      ],
      "source": [
        "# a = int(input(\"Enter the value of a: \"))\n",
        "# b = int(input(\"Enter the value of b: \"))\n",
        "# c = int(input(\"Enter the value of c: \"))\n",
        "a=4\n",
        "b=5\n",
        "c=6\n",
        "\n",
        "s = (a+b+c)/4\n",
        "radius = s/a\n",
        "res = (radius*10000)//100\n",
        "resf = res/100\n",
        "# print('%.2f' % radius)\n",
        "print(\"The raius of the circle is\",float(resf))"
      ]
    },
    {
      "cell_type": "code",
      "source": [
        "\n",
        "lst = []\n",
        "\n",
        "n = int(input())\n",
        "  \n",
        "for i in range(0, n):\n",
        "    ele = int(input())\n",
        "  \n",
        "    lst.append(ele) \n",
        "      \n",
        "print(lst)\n",
        "res = lst[::-1]\n",
        "print(res)"
      ],
      "metadata": {
        "colab": {
          "base_uri": "https://localhost:8080/"
        },
        "id": "ISrtZHUVACPw",
        "outputId": "1e05d653-4d3d-45f6-8e88-92673804dd47"
      },
      "execution_count": null,
      "outputs": [
        {
          "output_type": "stream",
          "name": "stdout",
          "text": [
            "4\n",
            "2\n",
            "3\n",
            "4\n",
            "5\n",
            "[2, 3, 4, 5]\n",
            "[5, 4, 3, 2]\n"
          ]
        }
      ]
    },
    {
      "cell_type": "code",
      "source": [
        "#map(func, iterable)\n",
        "numbers = [1,2,3,4,5]\n",
        "# def sum(n):\n",
        "#   return n+n\n",
        "\n",
        "# res = map(sum,numbers)\n",
        "# print(list(res))\n",
        "\n",
        "res = list(map(lambda n: n+n,numbers))\n",
        "print(res)\n",
        "\n"
      ],
      "metadata": {
        "id": "ZIPZsF3KAlEG",
        "colab": {
          "base_uri": "https://localhost:8080/"
        },
        "outputId": "8bc7bfb7-4535-4cb6-c5cc-edfe4399a583"
      },
      "execution_count": null,
      "outputs": [
        {
          "output_type": "stream",
          "name": "stdout",
          "text": [
            "[2, 4, 6, 8, 10]\n"
          ]
        }
      ]
    },
    {
      "cell_type": "code",
      "source": [
        "# def sum(n):\n",
        "#   if n>3:\n",
        "#     return n\n",
        "# res = filter(sum,[1,2,3,4,5])\n",
        "# print(list(res))\n",
        "\n",
        "res = filter(lambda n: (n>3), [1,2,3,4,5])\n",
        "print(list(res))"
      ],
      "metadata": {
        "colab": {
          "base_uri": "https://localhost:8080/"
        },
        "id": "Pk5U26FYuC4Q",
        "outputId": "14584313-6cd2-418b-e057-3883f556125e"
      },
      "execution_count": null,
      "outputs": [
        {
          "output_type": "stream",
          "name": "stdout",
          "text": [
            "[4, 5]\n"
          ]
        }
      ]
    },
    {
      "cell_type": "code",
      "source": [
        "from functools import reduce\n",
        "\n",
        "\n",
        "print(reduce(lambda a,b :a+b,[1,2,3,4,5] ))\n",
        "#print(list(res))"
      ],
      "metadata": {
        "colab": {
          "base_uri": "https://localhost:8080/"
        },
        "id": "-JfusvnYuyVf",
        "outputId": "5c4cc639-bd8b-404f-e57f-51df968fd985"
      },
      "execution_count": null,
      "outputs": [
        {
          "output_type": "stream",
          "name": "stdout",
          "text": [
            "15\n"
          ]
        }
      ]
    },
    {
      "cell_type": "code",
      "source": [
        "import operator\n",
        "lst = [1,2,3,4,5]\n",
        "print(reduce(operator.add,lst))\n",
        "print(reduce(operator.mul,lst))\n",
        "print(reduce(operator.sub,lst))\n"
      ],
      "metadata": {
        "colab": {
          "base_uri": "https://localhost:8080/"
        },
        "id": "TlYrDYJVvuGJ",
        "outputId": "c70cecbf-0b1a-4685-fdd8-69e50027af98"
      },
      "execution_count": null,
      "outputs": [
        {
          "output_type": "stream",
          "name": "stdout",
          "text": [
            "15\n",
            "120\n",
            "-13\n"
          ]
        }
      ]
    },
    {
      "cell_type": "code",
      "source": [
        "lst = [1,1,2,3,4,5,6,6,8,6,3,2,2,3,1,7]\n",
        "res = set(lst)\n",
        "print(res)"
      ],
      "metadata": {
        "colab": {
          "base_uri": "https://localhost:8080/"
        },
        "id": "dund7gE-yCxj",
        "outputId": "4c4a888b-781a-4484-f19e-8d25644af073"
      },
      "execution_count": null,
      "outputs": [
        {
          "output_type": "stream",
          "name": "stdout",
          "text": [
            "{1, 2, 3, 4, 5, 6, 7, 8}\n"
          ]
        }
      ]
    },
    {
      "cell_type": "code",
      "source": [
        "lst = [1,1,2,3,4,5,6,6,8,6,3,2,2,3,1,7]\n",
        "dict={}\n",
        "for i in lst:\n",
        "  print(i)\n",
        "  if i not in dict:\n",
        "     dict.setdefault(i,[]).append(i)\n",
        "     print(type(dict))\n",
        "  else:\n",
        "     dict.setdefault(i,[]).append(i)\n",
        "print(dict)\n"
      ],
      "metadata": {
        "colab": {
          "base_uri": "https://localhost:8080/"
        },
        "id": "YLvakICd6AXi",
        "outputId": "9a9bce52-54a0-40a8-cac9-78efd9cbfea1"
      },
      "execution_count": null,
      "outputs": [
        {
          "output_type": "stream",
          "name": "stdout",
          "text": [
            "1\n",
            "<class 'dict'>\n",
            "1\n",
            "2\n",
            "<class 'dict'>\n",
            "3\n",
            "<class 'dict'>\n",
            "4\n",
            "<class 'dict'>\n",
            "5\n",
            "<class 'dict'>\n",
            "6\n",
            "<class 'dict'>\n",
            "6\n",
            "8\n",
            "<class 'dict'>\n",
            "6\n",
            "3\n",
            "2\n",
            "2\n",
            "3\n",
            "1\n",
            "7\n",
            "<class 'dict'>\n",
            "{1: [1, 1, 1], 2: [2, 2, 2], 3: [3, 3, 3], 4: [4], 5: [5], 6: [6, 6, 6], 8: [8], 7: [7]}\n"
          ]
        }
      ]
    },
    {
      "cell_type": "code",
      "source": [
        "lst = [1,1,2,3,4,5,6,6,8,6,3,2,2,3,1,7]\n",
        "dict={}\n",
        "for i in lst:\n",
        "  print(i)\n",
        "  if i not in dict:\n",
        "     dict.setdefault(i,[]).append(i)\n",
        "     print(type(dict))\n",
        "  else:\n",
        "     x = dict[i]\n",
        "     print(i)\n",
        "     print(x)\n",
        "     print(type(dict[i]))\n",
        "     print(list(x).append(i))\n",
        "  print(dict)\n"
      ],
      "metadata": {
        "colab": {
          "base_uri": "https://localhost:8080/"
        },
        "id": "Ru-XLOTTyunv",
        "outputId": "55579aff-8adc-4bfd-937b-ed4797928515"
      },
      "execution_count": null,
      "outputs": [
        {
          "output_type": "stream",
          "name": "stdout",
          "text": [
            "1\n",
            "<class 'dict'>\n",
            "{1: [1]}\n",
            "1\n",
            "1\n",
            "[1]\n",
            "<class 'list'>\n",
            "None\n",
            "{1: [1]}\n",
            "2\n",
            "<class 'dict'>\n",
            "{1: [1], 2: [2]}\n",
            "3\n",
            "<class 'dict'>\n",
            "{1: [1], 2: [2], 3: [3]}\n",
            "4\n",
            "<class 'dict'>\n",
            "{1: [1], 2: [2], 3: [3], 4: [4]}\n",
            "5\n",
            "<class 'dict'>\n",
            "{1: [1], 2: [2], 3: [3], 4: [4], 5: [5]}\n",
            "6\n",
            "<class 'dict'>\n",
            "{1: [1], 2: [2], 3: [3], 4: [4], 5: [5], 6: [6]}\n",
            "6\n",
            "6\n",
            "[6]\n",
            "<class 'list'>\n",
            "None\n",
            "{1: [1], 2: [2], 3: [3], 4: [4], 5: [5], 6: [6]}\n",
            "8\n",
            "<class 'dict'>\n",
            "{1: [1], 2: [2], 3: [3], 4: [4], 5: [5], 6: [6], 8: [8]}\n",
            "6\n",
            "6\n",
            "[6]\n",
            "<class 'list'>\n",
            "None\n",
            "{1: [1], 2: [2], 3: [3], 4: [4], 5: [5], 6: [6], 8: [8]}\n",
            "3\n",
            "3\n",
            "[3]\n",
            "<class 'list'>\n",
            "None\n",
            "{1: [1], 2: [2], 3: [3], 4: [4], 5: [5], 6: [6], 8: [8]}\n",
            "2\n",
            "2\n",
            "[2]\n",
            "<class 'list'>\n",
            "None\n",
            "{1: [1], 2: [2], 3: [3], 4: [4], 5: [5], 6: [6], 8: [8]}\n",
            "2\n",
            "2\n",
            "[2]\n",
            "<class 'list'>\n",
            "None\n",
            "{1: [1], 2: [2], 3: [3], 4: [4], 5: [5], 6: [6], 8: [8]}\n",
            "3\n",
            "3\n",
            "[3]\n",
            "<class 'list'>\n",
            "None\n",
            "{1: [1], 2: [2], 3: [3], 4: [4], 5: [5], 6: [6], 8: [8]}\n",
            "1\n",
            "1\n",
            "[1]\n",
            "<class 'list'>\n",
            "None\n",
            "{1: [1], 2: [2], 3: [3], 4: [4], 5: [5], 6: [6], 8: [8]}\n",
            "7\n",
            "<class 'dict'>\n",
            "{1: [1], 2: [2], 3: [3], 4: [4], 5: [5], 6: [6], 8: [8], 7: [7]}\n"
          ]
        }
      ]
    },
    {
      "cell_type": "code",
      "source": [
        "list1 = [None,1,2,3,None,4,None,None,None,5,6,7,8,9,None,None,None]\n",
        "for i in range(0,len(list1)):\n",
        "  if list1[i] is None:\n",
        "    list1[i] = list1[i-1]\n",
        "print(list1)"
      ],
      "metadata": {
        "colab": {
          "base_uri": "https://localhost:8080/"
        },
        "id": "zPTQPll-3bE4",
        "outputId": "09d72893-90bb-46d1-fa59-255f557802dc"
      },
      "execution_count": null,
      "outputs": [
        {
          "output_type": "stream",
          "name": "stdout",
          "text": [
            "[None, 1, 2, 3, 3, 4, 4, 4, 4, 5, 6, 7, 8, 9, 9, 9, 9]\n"
          ]
        }
      ]
    }
  ]
}